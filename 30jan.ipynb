{
 "cells": [
  {
   "cell_type": "code",
   "execution_count": 7,
   "metadata": {
    "scrolled": true
   },
   "outputs": [
    {
     "name": "stdout",
     "output_type": "stream",
     "text": [
      "enter the number of users:3\n",
      "enter user name:shiva\n",
      "enter password:1024\n",
      "enter user name:vamshi\n",
      "enter password:1044\n",
      "enter user name:tejsri\n",
      "enter password:1134\n",
      "{'shiva': '1024', 'vamshi': '1044', 'tejsri': '1134'}\n"
     ]
    }
   ],
   "source": [
    "d={}\n",
    "l=[]\n",
    "n=int(input(\"enter the number of users:\"))\n",
    "for i in range(n):\n",
    "    k=input(\"enter user name:\")\n",
    "    y=input(\"enter password:\")\n",
    "    l.append(k)\n",
    "    d[k]=y\n",
    "print(d)"
   ]
  },
  {
   "cell_type": "code",
   "execution_count": 10,
   "metadata": {},
   "outputs": [
    {
     "name": "stdout",
     "output_type": "stream",
     "text": [
      "enter username:anath\n",
      "Enter password:1044\n",
      "Wrong username\n"
     ]
    }
   ],
   "source": [
    "u=input(\"enter username:\")\n",
    "p=input(\"Enter password:\")\n",
    "if u in l:\n",
    "    if d[u]==p:\n",
    "        print(\"Login Successfull\")\n",
    "    else:\n",
    "        print(\"Wrong password\")\n",
    "else:\n",
    "    print(\"Wrong username\")"
   ]
  },
  {
   "cell_type": "code",
   "execution_count": 6,
   "metadata": {},
   "outputs": [
    {
     "name": "stdout",
     "output_type": "stream",
     "text": [
      "{'shiva': '1024', 'vamshi': '1044', 'tejasri': '1134'}\n"
     ]
    }
   ],
   "source": [
    "print(d)"
   ]
  },
  {
   "cell_type": "code",
   "execution_count": 11,
   "metadata": {},
   "outputs": [
    {
     "name": "stdout",
     "output_type": "stream",
     "text": [
      "shiv\n",
      "s i "
     ]
    }
   ],
   "source": [
    "s=input()\n",
    "for i in range(len(s)):\n",
    "    if(i&1==0):\n",
    "        print(s[i],end=\"\")\n",
    "    else:\n",
    "        print(\" \",end=\"\")"
   ]
  },
  {
   "cell_type": "code",
   "execution_count": 2,
   "metadata": {},
   "outputs": [
    {
     "name": "stdout",
     "output_type": "stream",
     "text": [
      "******************ROCK PAPER SCISSORS******************\n",
      "\n",
      "\n",
      "\n",
      "               ROUND  1\n",
      "\n",
      "Enter your choice:rock\n",
      "Computer choice Paper\n",
      "Computer won\n",
      "player points: 0\n",
      "computer points: 1\n",
      "\n",
      "               ROUND  2\n",
      "\n",
      "Enter your choice:paper\n",
      "Computer choice Paper\n",
      "DRAW\n",
      "player points: 0\n",
      "computer points: 1\n",
      "\n",
      "               ROUND  3\n",
      "\n",
      "Enter your choice:paper\n",
      "Computer choice Scissors\n",
      "Computer won\n",
      "player points: 0\n",
      "computer points: 2\n",
      "\n",
      "               ROUND  4\n",
      "\n",
      "Enter your choice:paper\n",
      "Computer choice Paper\n",
      "DRAW\n",
      "player points: 0\n",
      "computer points: 2\n",
      "\n",
      "               ROUND  5\n",
      "\n",
      "Enter your choice:rock\n",
      "Computer choice Rock\n",
      "DRAW\n",
      "player points: 0\n",
      "computer points: 2\n",
      "\n",
      "\n",
      "\n",
      "Computer won the match\n"
     ]
    }
   ],
   "source": [
    "import random\n",
    "print(\"******************ROCK PAPER SCISSORS******************\\n\\n\")\n",
    "i=0\n",
    "j=0\n",
    "no=0\n",
    "while(no!=5):\n",
    "    print(\"\\n               ROUND \",no+1);\n",
    "    print()\n",
    "    n=input(\"Enter your choice:\")\n",
    "    l=[\"Rock\",\"Paper\",\"Scissors\"]\n",
    "    s=random.choice(l)\n",
    "    print(\"Computer choice\",s)\n",
    "    if n==\"Rock\" or n==\"rock\":\n",
    "        if s==\"Scissors\" or s==\"scissors\":\n",
    "            print(\"Player won\")\n",
    "            i+=1\n",
    "        elif s==\"Rock\" or s==\"rock\":\n",
    "            print(\"DRAW\")\n",
    "        else:\n",
    "            print(\"Computer won\")\n",
    "            j+=1\n",
    "    elif n==\"Scissors\" or n==\"scissors\":\n",
    "        if s==\"Paper\" or s==\"paper\":\n",
    "            print(\"Player won\")\n",
    "            i+=1\n",
    "        elif s==\"Scissors\" or s==\"scissors\":\n",
    "            print(\"DRAW\")\n",
    "        else:\n",
    "            print(\"Computer won\")\n",
    "            j+=1\n",
    "    elif n==\"Paper\" or n==\"paper\":\n",
    "        if s==\"Rock\" or s==\"rock\":\n",
    "            print(\"Player won\")\n",
    "            i+=1\n",
    "        elif s==\"Paper\" or s==\"paper\":\n",
    "            print(\"DRAW\")\n",
    "        else:\n",
    "            print(\"Computer won\")\n",
    "            j+=1\n",
    "    else:\n",
    "        print(\"INVALID INPUT\")\n",
    "    print(\"player points:\",i)\n",
    "    print(\"computer points:\",j)\n",
    "    no+=1\n",
    "print(\"\\n\\n\")\n",
    "if(i>j):\n",
    "    print(\"Player won the match\")\n",
    "else:\n",
    "    print(\"Computer won the match\")"
   ]
  },
  {
   "cell_type": "code",
   "execution_count": null,
   "metadata": {},
   "outputs": [],
   "source": []
  }
 ],
 "metadata": {
  "kernelspec": {
   "display_name": "Python 3",
   "language": "python",
   "name": "python3"
  },
  "language_info": {
   "codemirror_mode": {
    "name": "ipython",
    "version": 3
   },
   "file_extension": ".py",
   "mimetype": "text/x-python",
   "name": "python",
   "nbconvert_exporter": "python",
   "pygments_lexer": "ipython3",
   "version": "3.7.3"
  }
 },
 "nbformat": 4,
 "nbformat_minor": 2
}
