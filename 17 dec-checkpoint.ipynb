{
 "cells": [
  {
   "cell_type": "code",
   "execution_count": 12,
   "metadata": {},
   "outputs": [
    {
     "name": "stdout",
     "output_type": "stream",
     "text": [
      "Mango\n",
      "Taste: Sweet \n",
      "Rich in: Vitamin A \n",
      "Colour: Yellow\n",
      "\n",
      "Orange\n",
      "Taste: Sweet \n",
      "Rich in: Vitamin C \n",
      "Colour: Orange\n"
     ]
    }
   ],
   "source": [
    "class fruit:\n",
    "    def taste(self):\n",
    "        raise NotImplementedError()# abs lacks required derived class by raising an exception\n",
    "    def rich(self):\n",
    "        raise NotImplementedError()\n",
    "    def color(self):\n",
    "        raise NotImplementedError()\n",
    "class mango(fruit):\n",
    "    def taste(self):\n",
    "        return \"Sweet\"\n",
    "    def rich(self):\n",
    "        return \"Vitamin A\"\n",
    "    def color(self):\n",
    "        return \"Yellow\"\n",
    "class orange(fruit):\n",
    "    def taste(self):\n",
    "        return \"Sweet\"\n",
    "    def rich(self):\n",
    "        return \"Vitamin C\"\n",
    "    def color(self):\n",
    "        return \"Orange\"\n",
    "\n",
    "Alphanso=mango()\n",
    "print(\"Mango\")\n",
    "print(\"Taste:\",Alphanso.taste(),\"\\nRich in:\",Alphanso.rich(),\"\\nColour:\",Alphanso.color())\n",
    "Orange=orange()\n",
    "print(\"\\nOrange\")\n",
    "print(\"Taste:\",Orange.taste(),\"\\nRich in:\",Orange.rich(),\"\\nColour:\",Orange.color())"
   ]
  },
  {
   "cell_type": "code",
   "execution_count": 13,
   "metadata": {},
   "outputs": [
    {
     "name": "stdout",
     "output_type": "stream",
     "text": [
      "<built-in function abs>\n"
     ]
    }
   ],
   "source": [
    "print(abs)"
   ]
  },
  {
   "cell_type": "code",
   "execution_count": 35,
   "metadata": {},
   "outputs": [
    {
     "name": "stdout",
     "output_type": "stream",
     "text": [
      "result is: 4+6i\n"
     ]
    }
   ],
   "source": [
    "class Complex():\n",
    "    def __init__(self):\n",
    "        self.real=0\n",
    "        self.img=0\n",
    "    def setValue(self,real,img):\n",
    "        self.real=real\n",
    "        self.img=img\n",
    "    def __add__(self,c):\n",
    "        temp = Complex()\n",
    "        temp.real=self.real+c.real\n",
    "        temp.img=self.img+c.img\n",
    "        return temp\n",
    "    def display(self):\n",
    "        print(f\"{self.real}+{self.img}i\")\n",
    "c1=Complex()\n",
    "c1.setValue(1,2)\n",
    "c2=Complex()\n",
    "c2.setValue(3,4)\n",
    "c3=c1+c2\n",
    "print(\"result is:\",end=\" \")\n",
    "c3.display()\n"
   ]
  },
  {
   "cell_type": "raw",
   "metadata": {},
   "source": [
    "Operator         Function code\n",
    "\n",
    "1. +               __add__\n",
    "2. ++              __iadd__\n",
    "3. -               __sub__\n",
    "4. -=              __isub__\n",
    "5. *               __mul__\n",
    "6. *=              __imul__\n",
    "7. /               __truediv__\n",
    "8. /=              __idiv__\n",
    "9. *               __pow__\n",
    "10. **               __ipow__\n",
    "11. %               __mod__\n",
    "12. %=               __imod__\n",
    "13. >>               __rshift__     //    << __lshift__\n",
    "14. >>=              __irshift__     //    <<= __ilshift__   \n",
    "15. &               __and__\n",
    "16. &=               __iand__\n",
    "17. |               __or__\n",
    "18. |=               __ior__\n",
    "19. ^               __xor__\n",
    "20. ^=               __ixor__\n",
    "21. ~               __invert__\n",
    "22. ~=               __iinvert__\n",
    "23. >               __gt__\n",
    "24. <               __lt__\n",
    "25. >=               __ge__\n",
    "26. <=               __le__"
   ]
  },
  {
   "cell_type": "code",
   "execution_count": 37,
   "metadata": {},
   "outputs": [
    {
     "name": "stdout",
     "output_type": "stream",
     "text": [
      "3\n"
     ]
    }
   ],
   "source": [
    "import math\n",
    "print(int(math.sqrt(9)))"
   ]
  },
  {
   "cell_type": "code",
   "execution_count": 15,
   "metadata": {},
   "outputs": [
    {
     "name": "stdout",
     "output_type": "stream",
     "text": [
      "Dimensions of rectangle: \n",
      "Breadth of rectangle:12\n",
      "Length of rectangle:4\n",
      "Area of rectangle: 48\n",
      "\n",
      "Dimensions of Triangle:\n",
      "Base of Triangle:5\n",
      "Length of rectangle:6\n",
      "Area of triangle: 15.0\n"
     ]
    }
   ],
   "source": [
    "''' \n",
    "Program that has abstract class to derive two classes rectangle and triangle from polygon class\n",
    "write the methods to get their details and dimensions and hence calculate the area respectively\n",
    "'''\n",
    "class polygon:\n",
    "    def get_data(self):\n",
    "        raise NotImplementedError()\n",
    "    def area(self):\n",
    "        raise NotImplementedError()\n",
    "class rectangle(polygon):\n",
    "    def get_data(self):\n",
    "        self.b=int(input(\"Breadth of rectangle:\"))\n",
    "        self.l=int(input(\"Length of rectangle:\"))\n",
    "    def area(self):\n",
    "        return self.b*self.l\n",
    "class triangle(polygon):\n",
    "    def get_data(self):\n",
    "        self.base=int(input(\"Base of Triangle:\"))\n",
    "        self.height=int(input(\"Length of rectangle:\"))\n",
    "    def area(self):\n",
    "        return (self.base*self.height)/2\n",
    "print(\"Dimensions of rectangle: \")\n",
    "r=rectangle()\n",
    "r.get_data()\n",
    "print(\"Area of rectangle:\",r.area())\n",
    "print(\"\\nDimensions of Triangle:\")\n",
    "t=triangle()\n",
    "t.get_data()\n",
    "print(\"Area of triangle:\",t.area())"
   ]
  },
  {
   "cell_type": "code",
   "execution_count": 4,
   "metadata": {},
   "outputs": [
    {
     "name": "stdout",
     "output_type": "stream",
     "text": [
      "roll no is : 229\n"
     ]
    }
   ],
   "source": [
    "class pub:\n",
    "    def __init__(self,name,num):\n",
    "        self.name=name\n",
    "        self.num=num\n",
    "    def Num(self):\n",
    "        print(\"roll no is :\",self.num)\n",
    "obj=pub(\"harry\",229)\n",
    "obj.Num()"
   ]
  },
  {
   "cell_type": "code",
   "execution_count": 11,
   "metadata": {},
   "outputs": [
    {
     "name": "stdout",
     "output_type": "stream",
     "text": [
      "50\n"
     ]
    }
   ],
   "source": [
    "# program to overload the __call__ method\n",
    "class multi:\n",
    "    def __init__(self,num):\n",
    "        self.num=num\n",
    "    def __call__(self,O):\n",
    "        return self.num*O\n",
    "x=multi(10)\n",
    "print(x(5))"
   ]
  },
  {
   "cell_type": "code",
   "execution_count": 26,
   "metadata": {},
   "outputs": [
    {
     "name": "stdout",
     "output_type": "stream",
     "text": [
      "list:\n",
      "[1, 2, 3, 4, 5, 6, 7, 8]\n",
      "location where the value need to be inserted ,i=3\n",
      "Input:9\n",
      "[1, 2, 3, 9, 5, 6, 7, 8]\n",
      " index=3\n",
      "L[3]:9\n",
      "length: 8\n"
     ]
    }
   ],
   "source": [
    "# program to over ride get-item and set-item methods\n",
    "class myList():\n",
    "    def __init__(self,List):\n",
    "        self.List=List\n",
    "    def __getitem__(self,index):\n",
    "        return self.List[index]\n",
    "    def __setitem__(self,index,num):\n",
    "        self.List[index]=num\n",
    "    def __len__(self):\n",
    "        return len(self.List)\n",
    "    def display(self):\n",
    "        print(self.List)\n",
    "L=myList([1,2,3,4,5,6,7,8])\n",
    "print(\"list:\")\n",
    "L.display()\n",
    "index=int(input(\"location where the value need to be inserted ,i=\"))\n",
    "n=int(input(\"Input:\"))\n",
    "L[index]=n\n",
    "L.display()\n",
    "i=int(input(\" index=\"))\n",
    "print(f\"L[{i}]:{L[i]}\")\n",
    "print(\"length:\",len(L))"
   ]
  },
  {
   "cell_type": "code",
   "execution_count": 7,
   "metadata": {},
   "outputs": [
    {
     "name": "stdout",
     "output_type": "stream",
     "text": [
      "1010\n"
     ]
    }
   ],
   "source": [
    "print(bin(10)[2:])"
   ]
  },
  {
   "cell_type": "code",
   "execution_count": 11,
   "metadata": {
    "scrolled": true
   },
   "outputs": [
    {
     "name": "stdout",
     "output_type": "stream",
     "text": [
      "n is = -14\n",
      "abs(n) is = 14\n",
      "converting to binary 1110\n",
      "converting to float 14.0\n",
      "converting to hexa 0xe\n",
      "converting to octa 0o16\n"
     ]
    }
   ],
   "source": [
    "#special or miscellaneous functions in overloading\n",
    "class number:\n",
    "    def __init__(self,num):\n",
    "        self.num=num\n",
    "    def display(self):\n",
    "        return self.num\n",
    "    def __abs__(self):\n",
    "        return abs(self.num)\n",
    "    def __float__(self):\n",
    "        return float(self.num)\n",
    "    def __hex__(self):\n",
    "        return hex(self.num)\n",
    "    def __oct__(self):\n",
    "        return oct(self.num)\n",
    "    def __bin__(self):\n",
    "        return (self.num)\n",
    "    def __setitem__(self,num):\n",
    "        self.num=num\n",
    "n=number(-14)\n",
    "print('n is =',n.display())\n",
    "print('abs(n) is =',abs(n))\n",
    "n=abs(n)\n",
    "print('converting to binary',bin(n)[2:])\n",
    "print('converting to float',float(n))\n",
    "print('converting to hexa',hex(n))\n",
    "print('converting to octa',oct(n))"
   ]
  },
  {
   "cell_type": "code",
   "execution_count": 19,
   "metadata": {},
   "outputs": [
    {
     "name": "stdout",
     "output_type": "stream",
     "text": [
      "------teacher class-------\n",
      "name is  marks\n",
      "age is 43\n",
      "experience is 20\n",
      "research area JSS\n",
      "-------student class--------\n",
      "name is  shiva\n",
      "age is 20\n",
      "courses= B.tech\n",
      "marks= 78\n"
     ]
    }
   ],
   "source": [
    "#to visualize ineritance flow\n",
    "class person:\n",
    "    def __init__(self,name,age):\n",
    "        self.name=name\n",
    "        self.age=age\n",
    "    def display(self):\n",
    "        print(\"name is \",self.name)\n",
    "        print('age is',self.age)\n",
    "class teacher(person):\n",
    "    def __init__(self,name,age,exp,rarea):\n",
    "        person.__init__(self,name,age)\n",
    "        self.exp=exp\n",
    "        self.rarea=rarea\n",
    "    def displaydata(self):\n",
    "        person.display(self)\n",
    "        print('experience is',self.exp)\n",
    "        print('research area',self.rarea)\n",
    "class student(person):\n",
    "    def __init__(self,name,age,course,marks):\n",
    "        person.__init__(self,name,age)\n",
    "        self.course=course\n",
    "        self.marks=marks\n",
    "    def displaydata(self):\n",
    "        person.display(self)\n",
    "        print('courses=',self.course)\n",
    "        print('marks=',self.marks)\n",
    "print('------teacher class-------')\n",
    "T=teacher('marks',43,20,'JSS')\n",
    "T.displaydata()\n",
    "print('-------student class--------')\n",
    "S=student('shiva',20,'B.tech',78)\n",
    "S.displaydata()"
   ]
  },
  {
   "cell_type": "code",
   "execution_count": 20,
   "metadata": {},
   "outputs": [
    {
     "name": "stdout",
     "output_type": "stream",
     "text": [
      "shiva\n",
      "#####shiva#####\n"
     ]
    }
   ],
   "source": [
    "st=input()\n",
    "n=len(st)\n",
    "print(st.center(10+n,'#'))"
   ]
  },
  {
   "cell_type": "code",
   "execution_count": 31,
   "metadata": {},
   "outputs": [
    {
     "name": "stdout",
     "output_type": "stream",
     "text": [
      "base class 1\n",
      "base class 2\n"
     ]
    }
   ],
   "source": [
    "#program to invoke _init_ in multiple inheritance\n",
    "class base1(object):\n",
    "    def __init__(self):\n",
    "        print(\"base class 1\")\n",
    "        super(base1,self).__init__()\n",
    "class base2(object):\n",
    "    def __init__(self):\n",
    "        print(\"base class 2\")\n",
    "class Derived(base1,base2):\n",
    "    pass\n",
    "D=Derived()"
   ]
  },
  {
   "cell_type": "code",
   "execution_count": 30,
   "metadata": {},
   "outputs": [
    {
     "name": "stdout",
     "output_type": "stream",
     "text": [
      "base class 1\n",
      "base class 2\n",
      "Derived class\n"
     ]
    }
   ],
   "source": [
    "# program to call constructor of a base class from superclass\n",
    "class base1(object):\n",
    "    def __init__(self):\n",
    "        print(\"base class 1\")\n",
    "        super(base1,self).__init__()\n",
    "class base2(object):\n",
    "    def __init__(self):\n",
    "        print(\"base class 2\")\n",
    "class Derived(base1,base2):\n",
    "    def __init__(self):\n",
    "        super(Derived,self).__init__()\n",
    "        print(\"Derived class\")\n",
    "D=Derived()"
   ]
  },
  {
   "cell_type": "code",
   "execution_count": null,
   "metadata": {},
   "outputs": [],
   "source": []
  }
 ],
 "metadata": {
  "kernelspec": {
   "display_name": "Python 3",
   "language": "python",
   "name": "python3"
  },
  "language_info": {
   "codemirror_mode": {
    "name": "ipython",
    "version": 3
   },
   "file_extension": ".py",
   "mimetype": "text/x-python",
   "name": "python",
   "nbconvert_exporter": "python",
   "pygments_lexer": "ipython3",
   "version": "3.7.3"
  }
 },
 "nbformat": 4,
 "nbformat_minor": 2
}
