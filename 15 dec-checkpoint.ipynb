{
 "cells": [
  {
   "cell_type": "markdown",
   "metadata": {},
   "source": [
    "#### function - space allocated in the memory location\n",
    "\n",
    "function is into 2 parts\n",
    "1. function header\n",
    "2. function body\n",
    "\n",
    "\n",
    "syntax-\n",
    "\n",
    "\n",
    "def fu_name(var1, var2, ....):\n",
    "\n",
    "    documentation string\n",
    "    statement\n",
    "    return (expression/value)\n",
    "\n",
    "\n",
    "\n",
    "\n"
   ]
  },
  {
   "cell_type": "code",
   "execution_count": 2,
   "metadata": {},
   "outputs": [
    {
     "name": "stdout",
     "output_type": "stream",
     "text": [
      "abcde\n",
      "abcde\n",
      "abcde\n",
      "abcde\n",
      "abcde\n",
      "abcde\n",
      "abcde\n",
      "abcde\n",
      "abcde\n",
      "abcde\n"
     ]
    }
   ],
   "source": [
    "#no arguments no return\n",
    "def fun():#callee\n",
    "    for i in range(10):\n",
    "        print(\"abcde\")#function ends\n",
    "fun()#caller(main program)"
   ]
  },
  {
   "cell_type": "code",
   "execution_count": 3,
   "metadata": {},
   "outputs": [
    {
     "name": "stdout",
     "output_type": "stream",
     "text": [
      "50\n"
     ]
    }
   ],
   "source": [
    "#arguments with return values\n",
    "def diff(a,b):\n",
    "    return a*b\n",
    "x=10\n",
    "y=5\n",
    "op=diff\n",
    "print(op(x,y))"
   ]
  },
  {
   "cell_type": "code",
   "execution_count": 6,
   "metadata": {},
   "outputs": [
    {
     "name": "stdout",
     "output_type": "stream",
     "text": [
      "in the function var1 is - hi\n",
      "outside the function var2 is - good morning\n",
      "var1- hi\n",
      "var2- good morning\n"
     ]
    }
   ],
   "source": [
    "v1='hi'\n",
    "def ab():\n",
    "    global v2\n",
    "    v2='good morning'\n",
    "    print(\"in the function var1 is -\", v1)\n",
    "ab()\n",
    "print(\"outside the function var2 is -\", v2)\n",
    "print(\"var1-\",v1)\n",
    "print(\"var2-\",v2)"
   ]
  },
  {
   "cell_type": "code",
   "execution_count": 12,
   "metadata": {},
   "outputs": [
    {
     "name": "stdout",
     "output_type": "stream",
     "text": [
      "before modification var1- hi\n",
      "in the function var1 is - good morning\n",
      "outside the function var1 is - good morning\n",
      "before modification var1- good morning\n",
      "after modification var1- evening\n"
     ]
    }
   ],
   "source": [
    "v1='hi'\n",
    "def ab():\n",
    "    global v1\n",
    "    print(\"before modification var1-\",v1)\n",
    "    v1='good morning'\n",
    "    print(\"in the function var1 is -\", v1)\n",
    "ab()\n",
    "print(\"outside the function var1 is -\", v1)\n",
    "print(\"before modification var1-\",v1)\n",
    "v1='evening'\n",
    "print(\"after modification var1-\",v1)"
   ]
  },
  {
   "cell_type": "code",
   "execution_count": 21,
   "metadata": {},
   "outputs": [
    {
     "name": "stdout",
     "output_type": "stream",
     "text": [
      "inner variable-  22\n",
      "outer variable-  11\n"
     ]
    }
   ],
   "source": [
    "#Demonstrate access of varibles inner and outer of function\n",
    "def outer_fun():\n",
    "    var=11\n",
    "    def inner_fun():\n",
    "        var=22\n",
    "        print(\"inner variable- \",var)\n",
    "    inner_fun()\n",
    "    print(\"outer variable- \",var)\n",
    "outer_fun()"
   ]
  },
  {
   "cell_type": "code",
   "execution_count": 28,
   "metadata": {},
   "outputs": [
    {
     "name": "stdout",
     "output_type": "stream",
     "text": [
      "N=10\n",
      "cube of 10 - 1000\n"
     ]
    }
   ],
   "source": [
    "def cube(x):\n",
    "    return (x*x*x)\n",
    "\n",
    "n=int(input(\"N=\"))\n",
    "print(f\"cube of {n} - {cube(n)}\")"
   ]
  },
  {
   "cell_type": "code",
   "execution_count": 30,
   "metadata": {},
   "outputs": [
    {
     "name": "stdout",
     "output_type": "stream",
     "text": [
      "Name =shiva\n",
      "Hi  shiva\n"
     ]
    }
   ],
   "source": [
    "def dem(x):\n",
    "    print(\"Hi \",x)\n",
    "\n",
    "n=input(\"Name =\")\n",
    "dem(n)"
   ]
  },
  {
   "cell_type": "code",
   "execution_count": 31,
   "metadata": {},
   "outputs": [
    {
     "name": "stdout",
     "output_type": "stream",
     "text": [
      "the string is  hi\n",
      "the integer is  12\n",
      "the float is  5678.9876\n"
     ]
    }
   ],
   "source": [
    "#demo key args\n",
    "def display(str,int_x,float_y):\n",
    "    print('the string is ',str)\n",
    "    print('the integer is ',int_x)\n",
    "    print('the float is ',float_y)\n",
    "display(float_y=5678.9876,str=\"hi\",int_x=12)"
   ]
  },
  {
   "cell_type": "code",
   "execution_count": 32,
   "metadata": {},
   "outputs": [
    {
     "name": "stdout",
     "output_type": "stream",
     "text": [
      "the string is  5678.9876\n",
      "the integer is  hi\n",
      "the float is  12\n"
     ]
    }
   ],
   "source": [
    "def display(str,int_x,float_y):\n",
    "    print('the string is ',str)\n",
    "    print('the integer is ',int_x)\n",
    "    print('the float is ',float_y)\n",
    "display(5678.9876,\"hi\",12)"
   ]
  },
  {
   "cell_type": "code",
   "execution_count": 34,
   "metadata": {},
   "outputs": [
    {
     "name": "stdout",
     "output_type": "stream",
     "text": [
      "sum= 60\n"
     ]
    }
   ],
   "source": [
    "addition = lambda x,y,z:x+y+z\n",
    "print('sum=',addition(10,20,30))"
   ]
  },
  {
   "cell_type": "markdown",
   "metadata": {},
   "source": [
    "### lambda function\n",
    "1. lambda fun have no names\n",
    "2. it can take n number of attributes\n",
    "3. it can only return one value\n",
    "4. lambda fun cannot access global variable\n",
    "5. cannot access variables other than parameters list\n",
    "6. cannot contain multi parameters\n",
    "7. doesnot have explict return statements"
   ]
  },
  {
   "cell_type": "code",
   "execution_count": 46,
   "metadata": {},
   "outputs": [
    {
     "name": "stdout",
     "output_type": "stream",
     "text": [
      "smallest no is : -5\n"
     ]
    }
   ],
   "source": [
    "def small(a,b):\n",
    "    return a if a<b else b\n",
    "add= lambda x,y:x+y\n",
    "diff= lambda x,y:x-y\n",
    "print(\"smallest no is :\",small(add(-2,-3),diff(3,4)))"
   ]
  },
  {
   "cell_type": "code",
   "execution_count": 49,
   "metadata": {},
   "outputs": [
    {
     "name": "stdout",
     "output_type": "stream",
     "text": [
      "a= 100\n",
      "a afterincrementing- 101\n"
     ]
    }
   ],
   "source": [
    "def increment(y):\n",
    "    return (lambda x:x+1)(y)\n",
    "a=100\n",
    "print(\"a=\",a)\n",
    "print(\"a afterincrementing-\",increment(a))"
   ]
  },
  {
   "cell_type": "code",
   "execution_count": 51,
   "metadata": {},
   "outputs": [
    {
     "name": "stdout",
     "output_type": "stream",
     "text": [
      "8\n",
      "9\n"
     ]
    }
   ],
   "source": [
    "#lamda function as a function argument\n",
    "def fun(f,n):\n",
    "    print(f(n))\n",
    "twice=lambda x:x*2\n",
    "triple=lambda x:x*3\n",
    "fun(twice,4)\n",
    "fun(triple,3)"
   ]
  },
  {
   "cell_type": "code",
   "execution_count": 52,
   "metadata": {},
   "outputs": [
    {
     "name": "stdout",
     "output_type": "stream",
     "text": [
      "27\n"
     ]
    }
   ],
   "source": [
    "add=lambda x,y:x+y\n",
    "m_and_add=lambda x,y,z:x*add(y,z)\n",
    "print(m_and_add(3,4,5))"
   ]
  },
  {
   "cell_type": "code",
   "execution_count": 55,
   "metadata": {},
   "outputs": [
    {
     "name": "stdout",
     "output_type": "stream",
     "text": [
      "55\n"
     ]
    }
   ],
   "source": [
    "print(sum(range(1,11)))#evalutes upto n-1"
   ]
  },
  {
   "cell_type": "code",
   "execution_count": 70,
   "metadata": {},
   "outputs": [
    {
     "name": "stdout",
     "output_type": "stream",
     "text": [
      "a=10,b=20\n",
      "After swap\n",
      "a=20,b=10\n"
     ]
    }
   ],
   "source": [
    "def swap(a,b):\n",
    "    a,b=b,a\n",
    "    print(f\"a={a},b={b}\")\n",
    "a=10\n",
    "b=20\n",
    "\n",
    "print(f\"a={a},b={b}\")\n",
    "print(\"After swap\")\n",
    "swap(a,b)"
   ]
  },
  {
   "cell_type": "code",
   "execution_count": 79,
   "metadata": {},
   "outputs": [
    {
     "name": "stdout",
     "output_type": "stream",
     "text": [
      "enter first name:shiva ujjwal\n",
      "Enter last name:kurimilla\n",
      "Shiva ujjwal kurimilla\n"
     ]
    }
   ],
   "source": [
    "def full(a,b):\n",
    "    return a+\" \"+b\n",
    "a=input(\"enter first name:\")\n",
    "a=a.capitalize()\n",
    "b=input(\"Enter last name:\")\n",
    "p=full(a,b)\n",
    "print(p)"
   ]
  },
  {
   "cell_type": "code",
   "execution_count": 78,
   "metadata": {},
   "outputs": [
    {
     "name": "stdout",
     "output_type": "stream",
     "text": [
      "N=3\n",
      "ODD\n"
     ]
    }
   ],
   "source": [
    "def evenodd(n):\n",
    "    return 1 if n%2==0 else 0\n",
    "n=int(input(\"N=\"))\n",
    "if(evenodd(n)):\n",
    "    print(\"EVEN\")\n",
    "else:\n",
    "    print(\"ODD\")"
   ]
  },
  {
   "cell_type": "code",
   "execution_count": 80,
   "metadata": {},
   "outputs": [
    {
     "name": "stdout",
     "output_type": "stream",
     "text": [
      "55\n"
     ]
    }
   ],
   "source": [
    "x = lambda: sum(range(1,11))\n",
    "print(x())"
   ]
  },
  {
   "cell_type": "code",
   "execution_count": 81,
   "metadata": {},
   "outputs": [
    {
     "name": "stdout",
     "output_type": "stream",
     "text": [
      "Enter age:60\n",
      "SI: 72.0\n"
     ]
    }
   ],
   "source": [
    "def roi(a):\n",
    "    return 12 if a>=60 else 10\n",
    "a=int(input(\"Enter age:\"))\n",
    "p=200\n",
    "r=3\n",
    "e=roi(a)\n",
    "p=(p*r*e)/100\n",
    "print(\"SI:\",p)"
   ]
  },
  {
   "cell_type": "code",
   "execution_count": 83,
   "metadata": {},
   "outputs": [
    {
     "name": "stdout",
     "output_type": "stream",
     "text": [
      "N=4\n",
      "24\n"
     ]
    }
   ],
   "source": [
    "def fact(n):\n",
    "    return 1 if(n==1) else n*fact(n-1)\n",
    "n=int(input(\"N=\"))\n",
    "print(fact(n))"
   ]
  },
  {
   "cell_type": "code",
   "execution_count": 2,
   "metadata": {},
   "outputs": [
    {
     "name": "stdout",
     "output_type": "stream",
     "text": [
      "X=2\n",
      "Y=3\n",
      "8\n"
     ]
    }
   ],
   "source": [
    "#program in find the exp(x,y) using recursion function\n",
    "def expo(x,y):\n",
    "    if(y==0):\n",
    "        return 1\n",
    "    else:\n",
    "        return (x*expo(x,y-1))\n",
    "x=int(input(\"X=\"))\n",
    "y=int(input(\"Y=\"))\n",
    "print(expo(x,y))"
   ]
  },
  {
   "cell_type": "code",
   "execution_count": 3,
   "metadata": {},
   "outputs": [
    {
     "name": "stdout",
     "output_type": "stream",
     "text": [
      "N=10\n",
      "fibonacci series \n",
      "1 element :0\n",
      "2 element :1\n",
      "3 element :1\n",
      "4 element :2\n",
      "5 element :3\n",
      "6 element :5\n",
      "7 element :8\n",
      "8 element :13\n",
      "9 element :21\n",
      "10 element :34\n"
     ]
    }
   ],
   "source": [
    "def fib(n):\n",
    "    if(n==0):\n",
    "        return 0\n",
    "    elif(n==1):\n",
    "        return 1\n",
    "    else:\n",
    "        return fib(n-1)+fib(n-2)\n",
    "n=int(input(\"N=\"))\n",
    "print(\"fibonacci series \")\n",
    "for i in range(n):\n",
    "    print(f\"{i+1} element :{fib(i)}\")"
   ]
  },
  {
   "cell_type": "code",
   "execution_count": 36,
   "metadata": {},
   "outputs": [
    {
     "name": "stdout",
     "output_type": "stream",
     "text": [
      "[1, 2, 3, 4] [] []\n",
      "[1, 4] [3] [2]\n"
     ]
    }
   ],
   "source": [
    "def toi(n,A,B,C):\n",
    "    if(n>0):\n",
    "        toi(n-1,A,C,B)\n",
    "        if A:\n",
    "            C.append(A.pop())\n",
    "        toi(n-1,B,C,A)\n",
    "T1=[1,2,3,4]\n",
    "T2=[]\n",
    "T3=[]\n",
    "print(T1,T2,T3)\n",
    "toi(len(T1),T1,T2,T3)\n",
    "print(T1,T2,T3)"
   ]
  },
  {
   "cell_type": "code",
   "execution_count": null,
   "metadata": {},
   "outputs": [],
   "source": []
  },
  {
   "cell_type": "code",
   "execution_count": null,
   "metadata": {},
   "outputs": [],
   "source": []
  }
 ],
 "metadata": {
  "kernelspec": {
   "display_name": "Python 3",
   "language": "python",
   "name": "python3"
  },
  "language_info": {
   "codemirror_mode": {
    "name": "ipython",
    "version": 3
   },
   "file_extension": ".py",
   "mimetype": "text/x-python",
   "name": "python",
   "nbconvert_exporter": "python",
   "pygments_lexer": "ipython3",
   "version": "3.7.3"
  }
 },
 "nbformat": 4,
 "nbformat_minor": 2
}
