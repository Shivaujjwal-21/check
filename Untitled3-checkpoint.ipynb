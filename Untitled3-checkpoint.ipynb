{
 "cells": [
  {
   "cell_type": "code",
   "execution_count": 7,
   "metadata": {},
   "outputs": [
    {
     "name": "stdout",
     "output_type": "stream",
     "text": [
      "M=3\n",
      "N=9\n",
      "Sum is : 42\n"
     ]
    }
   ],
   "source": [
    "s=0\n",
    "m=int(input(\"M=\"))\n",
    "n=int(input(\"N=\"))\n",
    "i=m\n",
    "while(i<=n):\n",
    "    s+=i\n",
    "    i+=1\n",
    "    \n",
    "print(\"Sum is :\" ,s)"
   ]
  },
  {
   "cell_type": "code",
   "execution_count": 3,
   "metadata": {},
   "outputs": [
    {
     "name": "stdout",
     "output_type": "stream",
     "text": [
      "N=123\n",
      "sum of digits 6\n"
     ]
    }
   ],
   "source": [
    "s=0\n",
    "n=int(input(\"N=\"))\n",
    "r=0\n",
    "while(n>0):\n",
    "    r=n%10\n",
    "    s+=r\n",
    "    n=n//10\n",
    "print(\"sum of digits:\",s)"
   ]
  },
  {
   "cell_type": "code",
   "execution_count": 6,
   "metadata": {},
   "outputs": [
    {
     "name": "stdout",
     "output_type": "stream",
     "text": [
      "1.2857142857142858\n"
     ]
    }
   ],
   "source": [
    "n=9\n",
    "n/=7\n",
    "print(n)"
   ]
  },
  {
   "cell_type": "code",
   "execution_count": 11,
   "metadata": {},
   "outputs": [
    {
     "name": "stdout",
     "output_type": "stream",
     "text": [
      "N=12\n",
      "12 is a Niven's number\n"
     ]
    }
   ],
   "source": [
    "# for a number N,let S be sum of the digit of N,then if S divides N then it is a NIVEN's NUMBER or HARSHED NUMBER\n",
    "s=0\n",
    "n=int(input(\"N=\"))\n",
    "m=n\n",
    "r=0\n",
    "while(n>0):\n",
    "    r=n%10\n",
    "    s+=r\n",
    "    n=n//10\n",
    "if(m%s==0):\n",
    "    print(m,\"is a Niven's number\")\n",
    "else:\n",
    "    print(m,\"is not a Niven's number\")"
   ]
  },
  {
   "cell_type": "code",
   "execution_count": 18,
   "metadata": {},
   "outputs": [
    {
     "name": "stdout",
     "output_type": "stream",
     "text": [
      "N=123\n",
      "3 2 1 \n",
      "Reverse of given number 321\n"
     ]
    }
   ],
   "source": [
    "s=0\n",
    "n=int(input(\"N=\"))\n",
    "r=0\n",
    "while(n>0):\n",
    "    r=n%10\n",
    "    print(r ,end=\" \")\n",
    "    s=s*10+r\n",
    "    n=n//10\n",
    "print(\"\\nReverse of given number\",s)"
   ]
  },
  {
   "cell_type": "code",
   "execution_count": 21,
   "metadata": {},
   "outputs": [
    {
     "name": "stdout",
     "output_type": "stream",
     "text": [
      "N=123\n",
      "321\n",
      "3 2 1\n"
     ]
    }
   ],
   "source": [
    "n=int(input(\"N=\"))\n",
    "s=str(n)\n",
    "r=\"\".join(reversed(s))\n",
    "r1=\" \".join(reversed(s))\n",
    "print(r)\n",
    "print(r1)"
   ]
  },
  {
   "cell_type": "code",
   "execution_count": 23,
   "metadata": {},
   "outputs": [
    {
     "name": "stdout",
     "output_type": "stream",
     "text": [
      "N=123\n",
      "321\n"
     ]
    }
   ],
   "source": [
    "def reverse(n):\n",
    "    if(len(n)==0):\n",
    "        return n\n",
    "    return reverse(n[1:])+n[0]\n",
    "\n",
    "n=int(input(\"N=\"))\n",
    "s=str(n)\n",
    "r=reverse(s)\n",
    "print(r)"
   ]
  },
  {
   "cell_type": "code",
   "execution_count": 29,
   "metadata": {},
   "outputs": [
    {
     "name": "stdout",
     "output_type": "stream",
     "text": [
      "N=10\n",
      "SUM: 55\n",
      "AVERAGE: 5.5\n"
     ]
    }
   ],
   "source": [
    "n=int(input(\"N=\"))\n",
    "a=0.0\n",
    "s=0\n",
    "for i in range(1,n+1):\n",
    "    s+=i\n",
    "a=s/i\n",
    "print(\"SUM:\",s)\n",
    "print(\"AVERAGE:\",a)"
   ]
  },
  {
   "cell_type": "code",
   "execution_count": 34,
   "metadata": {},
   "outputs": [
    {
     "name": "stdout",
     "output_type": "stream",
     "text": [
      "N=5\n",
      "5 x 1 = 5\n",
      "5 x 2 = 10\n",
      "5 x 3 = 15\n",
      "5 x 4 = 20\n",
      "5 x 5 = 25\n",
      "5 x 6 = 30\n",
      "5 x 7 = 35\n",
      "5 x 8 = 40\n",
      "5 x 9 = 45\n",
      "5 x 10 = 50\n"
     ]
    }
   ],
   "source": [
    "n=int(input(\"N=\"))\n",
    "for i in range(1,11):\n",
    "    print(f\"{n} x {i} = {n*i}\")"
   ]
  },
  {
   "cell_type": "code",
   "execution_count": 83,
   "metadata": {},
   "outputs": [
    {
     "name": "stdout",
     "output_type": "stream",
     "text": [
      "leap years\n",
      "1900\t1904\t1908\t1912\t1916\t1920\t1924\t1928\t1932\t1936\t1940\t1944\t1948\t1952\t1956\t1960\t1964\t1968\t1972\t1976\t1980\t1984\t1988\t1992\t1996\t2000\t2004\t2008\t2012\t2016\t2020\t2024\t2028\t2032\t2036\t2040\t2044\t2048\t2052\t2056\t2060\t2064\t2068\t2072\t2076\t2080\t2084\t2088\t2092\t2096\t2100\t"
     ]
    }
   ],
   "source": [
    "print(\"leap years\")\n",
    "for i in range(1900,2101):\n",
    "    if(i%4==0):\n",
    "        print(i,end=\"\\t\")"
   ]
  },
  {
   "cell_type": "code",
   "execution_count": 66,
   "metadata": {},
   "outputs": [
    {
     "name": "stdout",
     "output_type": "stream",
     "text": [
      "N=5\n",
      "sum of the series : 1/1 +  1/4 +  1/9 +  1/16 +  1/25 =  1.4636111111111112\n"
     ]
    }
   ],
   "source": [
    "n=int(input(\"N=\"))\n",
    "s=0.0\n",
    "print(\"sum of the series :\", end=\" \")\n",
    "for i in range(1,n):\n",
    "    a=1.0/(i**2)\n",
    "    s+=a\n",
    "    print(f\"1/{i*i} + \",end=\" \")\n",
    "s+=1.0/(n**2)\n",
    "print(f\"1/{n*n}\",end=\" \")\n",
    "print(\"= \",s)"
   ]
  },
  {
   "cell_type": "code",
   "execution_count": 78,
   "metadata": {},
   "outputs": [
    {
     "name": "stdout",
     "output_type": "stream",
     "text": [
      "N=7\n",
      "sum of the series : 1/1 + 1/2 + 1/3 + 1/4 + 1/5 + 1/6 + 1/7 =  2.5928571428571425\n"
     ]
    }
   ],
   "source": [
    "n=int(input(\"N=\"))\n",
    "s=0.0\n",
    "print(\"sum of the series :\", end=\" \")\n",
    "for i in range(1,n):\n",
    "    a=1.0/i\n",
    "    s+=a\n",
    "    print(f\"1/{i} +\",end=\" \")\n",
    "s+=1.0/n\n",
    "print(f\"1/{n}\",end=\" \")\n",
    "print(\"= \",s)"
   ]
  },
  {
   "cell_type": "code",
   "execution_count": 65,
   "metadata": {},
   "outputs": [
    {
     "name": "stdout",
     "output_type": "stream",
     "text": [
      "8\n"
     ]
    }
   ],
   "source": [
    "print(2**3)"
   ]
  },
  {
   "cell_type": "code",
   "execution_count": 75,
   "metadata": {},
   "outputs": [
    {
     "name": "stdout",
     "output_type": "stream",
     "text": [
      "Hello \n",
      "World\n",
      "Hello \t World\n"
     ]
    }
   ],
   "source": [
    "print(\"Hello \\nWorld\")\n",
    "print(\"Hello \\t World\")"
   ]
  },
  {
   "cell_type": "code",
   "execution_count": 74,
   "metadata": {},
   "outputs": [
    {
     "name": "stdout",
     "output_type": "stream",
     "text": [
      "Hi\n"
     ]
    }
   ],
   "source": [
    "st=\"hi\"\n",
    "print(st.capitalize())"
   ]
  },
  {
   "cell_type": "code",
   "execution_count": 84,
   "metadata": {},
   "outputs": [
    {
     "name": "stdout",
     "output_type": "stream",
     "text": [
      "$$$$hi$$$$\n"
     ]
    }
   ],
   "source": [
    "print(st.center(10,'$'))"
   ]
  },
  {
   "cell_type": "code",
   "execution_count": 86,
   "metadata": {},
   "outputs": [
    {
     "name": "stdout",
     "output_type": "stream",
     "text": [
      "$$hello$$$\n"
     ]
    }
   ],
   "source": [
    "st=\"hello\"\n",
    "print(st.center(10,'$'))"
   ]
  },
  {
   "cell_type": "code",
   "execution_count": 89,
   "metadata": {},
   "outputs": [
    {
     "name": "stdout",
     "output_type": "stream",
     "text": [
      "$$$$hell$$$\n"
     ]
    }
   ],
   "source": [
    "st=\"hell\"\n",
    "print(st.center(11,'$'))"
   ]
  },
  {
   "cell_type": "code",
   "execution_count": 101,
   "metadata": {},
   "outputs": [
    {
     "name": "stdout",
     "output_type": "stream",
     "text": [
      "ll\n"
     ]
    }
   ],
   "source": [
    "print(str)"
   ]
  },
  {
   "cell_type": "code",
   "execution_count": 100,
   "metadata": {},
   "outputs": [
    {
     "name": "stdout",
     "output_type": "stream",
     "text": [
      "3\n"
     ]
    }
   ],
   "source": [
    "str=\"ll\"\n",
    "substr=\"hellollllo\"\n",
    "print(substr.count(str,0,len(substr)))"
   ]
  },
  {
   "cell_type": "code",
   "execution_count": 108,
   "metadata": {},
   "outputs": [
    {
     "name": "stdout",
     "output_type": "stream",
     "text": [
      "9\n"
     ]
    }
   ],
   "source": [
    "str=\"vamshi is a playboy\"\n",
    "print(str.find(\" a \",0,len(str)))"
   ]
  },
  {
   "cell_type": "code",
   "execution_count": 103,
   "metadata": {},
   "outputs": [
    {
     "name": "stdout",
     "output_type": "stream",
     "text": [
      "hi^^^^^^^^^^^^^^^^^^\n",
      "^^^^^^^^^^^^^^^^^^hi\n"
     ]
    }
   ],
   "source": [
    "#syntax for left justification and right justification\n",
    "st=\"hi\"\n",
    "print(st.ljust(20,'^'))\n",
    "print(st.rjust(20,'^'))"
   ]
  },
  {
   "cell_type": "code",
   "execution_count": 114,
   "metadata": {},
   "outputs": [
    {
     "name": "stdout",
     "output_type": "stream",
     "text": [
      "JAMES BOND 007\n"
     ]
    }
   ],
   "source": [
    "#zfill(width)\n",
    "st=\"7\"\n",
    "print(\"JAMES BOND\",st.zfill(3))"
   ]
  },
  {
   "cell_type": "code",
   "execution_count": 113,
   "metadata": {},
   "outputs": [
    {
     "name": "stdout",
     "output_type": "stream",
     "text": [
      "9\n"
     ]
    }
   ],
   "source": [
    "print(max(st))"
   ]
  },
  {
   "cell_type": "code",
   "execution_count": 116,
   "metadata": {},
   "outputs": [
    {
     "name": "stdout",
     "output_type": "stream",
     "text": [
      "Vamshi Is A Playboy\n"
     ]
    }
   ],
   "source": [
    "#.title()\n",
    "print(str.title())"
   ]
  },
  {
   "cell_type": "code",
   "execution_count": 118,
   "metadata": {},
   "outputs": [
    {
     "name": "stdout",
     "output_type": "stream",
     "text": [
      "vAMSHI iS a pLAYBOY\n"
     ]
    }
   ],
   "source": [
    "str=str.title()\n",
    "print(str.swapcase())"
   ]
  },
  {
   "cell_type": "code",
   "execution_count": 119,
   "metadata": {},
   "outputs": [
    {
     "name": "stdout",
     "output_type": "stream",
     "text": [
      "Vamshi Is A Playboy\n"
     ]
    }
   ],
   "source": [
    "print(str)"
   ]
  },
  {
   "cell_type": "code",
   "execution_count": 120,
   "metadata": {},
   "outputs": [
    {
     "name": "stdout",
     "output_type": "stream",
     "text": [
      "[(0, 'V'), (1, 'a'), (2, 'm'), (3, 's'), (4, 'h'), (5, 'i'), (6, ' '), (7, 'I'), (8, 's'), (9, ' '), (10, 'A'), (11, ' '), (12, 'P'), (13, 'l'), (14, 'a'), (15, 'y'), (16, 'b'), (17, 'o'), (18, 'y')]\n"
     ]
    }
   ],
   "source": [
    "print(list(enumerate(str)))"
   ]
  },
  {
   "cell_type": "code",
   "execution_count": 121,
   "metadata": {},
   "outputs": [
    {
     "name": "stdout",
     "output_type": "stream",
     "text": [
      "19\n"
     ]
    }
   ],
   "source": [
    "print(len(str))"
   ]
  },
  {
   "cell_type": "code",
   "execution_count": 127,
   "metadata": {},
   "outputs": [
    {
     "name": "stdout",
     "output_type": "stream",
     "text": [
      "I n d i a h a s w o n "
     ]
    }
   ],
   "source": [
    "st=\"India has won\"\n",
    "for i in st:\n",
    "    if(i==\" \"):\n",
    "        continue\n",
    "    else:\n",
    "        print(i,end=\" \")"
   ]
  },
  {
   "cell_type": "code",
   "execution_count": 130,
   "metadata": {},
   "outputs": [
    {
     "name": "stdout",
     "output_type": "stream",
     "text": [
      "Kpfkc"
     ]
    }
   ],
   "source": [
    "#caeser cipher\n",
    "str=\"India\"\n",
    "i=0\n",
    "while i<len(str):\n",
    "    le=str[i]\n",
    "    print(chr(ord(le)+2),end=\"\")\n",
    "    i+=1"
   ]
  },
  {
   "cell_type": "code",
   "execution_count": 132,
   "metadata": {},
   "outputs": [
    {
     "name": "stdout",
     "output_type": "stream",
     "text": [
      "India"
     ]
    }
   ],
   "source": [
    "st=\"Kpfkc\"\n",
    "i=0\n",
    "while i<len(st):\n",
    "    le=st[i]\n",
    "    print(chr(ord(le)-2),end=\"\")\n",
    "    i+=1"
   ]
  },
  {
   "cell_type": "code",
   "execution_count": 136,
   "metadata": {},
   "outputs": [
    {
     "name": "stdout",
     "output_type": "stream",
     "text": [
      "65\n"
     ]
    }
   ],
   "source": [
    "#to print ascii value - ord(charcter)\n",
    "le=\"A\"\n",
    "print(ord(le))"
   ]
  },
  {
   "cell_type": "code",
   "execution_count": 137,
   "metadata": {},
   "outputs": [
    {
     "name": "stdout",
     "output_type": "stream",
     "text": [
      "Aate\n",
      "Bate\n",
      "Cate\n",
      "Date\n",
      "Eate\n",
      "Fate\n"
     ]
    }
   ],
   "source": [
    "#  Abecedarian series\n",
    "s=\"ate\"\n",
    "li=[\"A\",\"B\",\"C\",\"D\",\"E\",\"F\"]\n",
    "for i in li:\n",
    "    print(i+s)"
   ]
  },
  {
   "cell_type": "code",
   "execution_count": 4,
   "metadata": {},
   "outputs": [
    {
     "name": "stdout",
     "output_type": "stream",
     "text": [
      "1010\n"
     ]
    }
   ],
   "source": [
    "s=\"10\"\n",
    "b=str(10)\n",
    "print(s+b)"
   ]
  },
  {
   "cell_type": "code",
   "execution_count": 36,
   "metadata": {},
   "outputs": [
    {
     "name": "stdout",
     "output_type": "stream",
     "text": [
      "enter the position:12\n",
      "[0, 0, 7, 6, 14, 12, 21, 18, 28, 24, 35, 30, 42, 36, 49, 42, 56, 48, 63, 54, 70, 60]\n",
      "12 at accordance 30 \n"
     ]
    }
   ],
   "source": [
    "j,k=0,0\n",
    "v=int(input(\"enter the position:\"))\n",
    "l=[]\n",
    "for i in range(0,22):\n",
    "    if(i%2==0):\n",
    "        l.append(7*j)\n",
    "        j+=1\n",
    "    else:\n",
    "        l.append(6*k)\n",
    "        k+=1\n",
    "print(l)\n",
    "print(f\"{v} at accordance {l[v-1]} \")    "
   ]
  },
  {
   "cell_type": "code",
   "execution_count": 37,
   "metadata": {},
   "outputs": [
    {
     "name": "stdout",
     "output_type": "stream",
     "text": [
      "enter the position:13\n",
      "[1, 1, 2, 3, 4, 9, 8, 27, 16, 81, 32, 243, 64, 729, 128, 2187, 256, 6561, 512, 19683, 1024, 59049]\n",
      "13 at accordance 64 \n"
     ]
    }
   ],
   "source": [
    "j,k=0,0\n",
    "v=int(input(\"enter the position:\"))\n",
    "l=[]\n",
    "for i in range(0,22):\n",
    "    if(i%2==0):\n",
    "        l.append(2**j)\n",
    "        j+=1\n",
    "    else:\n",
    "        l.append(3**k)\n",
    "        k+=1\n",
    "print(l)\n",
    "print(f\"{v} at accordance {l[v-1]} \")    "
   ]
  },
  {
   "cell_type": "code",
   "execution_count": null,
   "metadata": {},
   "outputs": [],
   "source": []
  }
 ],
 "metadata": {
  "kernelspec": {
   "display_name": "Python 3",
   "language": "python",
   "name": "python3"
  },
  "language_info": {
   "codemirror_mode": {
    "name": "ipython",
    "version": 3
   },
   "file_extension": ".py",
   "mimetype": "text/x-python",
   "name": "python",
   "nbconvert_exporter": "python",
   "pygments_lexer": "ipython3",
   "version": "3.7.3"
  }
 },
 "nbformat": 4,
 "nbformat_minor": 2
}
