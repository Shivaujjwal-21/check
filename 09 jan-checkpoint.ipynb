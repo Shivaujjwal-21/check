{
 "cells": [
  {
   "cell_type": "code",
   "execution_count": 10,
   "metadata": {},
   "outputs": [
    {
     "name": "stdout",
     "output_type": "stream",
     "text": [
      "8\n",
      "10 98 3 33 12 22 21 11\n",
      "10 98 12 22 3 33 21 11 "
     ]
    }
   ],
   "source": [
    "n=int(input())\n",
    "if(n<=0):\n",
    "    print(\"Invalid Input\")\n",
    "    quit()\n",
    "x=[int(i) for i in input().split()]\n",
    "o=[]\n",
    "e=[]\n",
    "for i in range(0,n):\n",
    "    if(x[i]%2==0):\n",
    "        e.append(x[i])\n",
    "    else:\n",
    "        o.append(x[i])\n",
    "        \n",
    "x=[]\n",
    "l=e+o\n",
    "for i in l:\n",
    "    print(i,end=\" \")\n",
    "    "
   ]
  },
  {
   "cell_type": "code",
   "execution_count": 5,
   "metadata": {},
   "outputs": [
    {
     "name": "stdout",
     "output_type": "stream",
     "text": [
      "name age branch\n",
      "shiva 20 cse\n",
      "{'name': 'shiva', 'age': '20', 'branch': 'cse'}\n"
     ]
    }
   ],
   "source": [
    "l=input().split()\n",
    "v=input().split()\n",
    "ou=zip(l,v)\n",
    "d=dict(ou)\n",
    "print(d)"
   ]
  },
  {
   "cell_type": "code",
   "execution_count": 7,
   "metadata": {},
   "outputs": [
    {
     "name": "stdout",
     "output_type": "stream",
     "text": [
      "{(0, 3): 1, (1, 0): 2, (1, 4): 3, (2, 3): 4}\n"
     ]
    }
   ],
   "source": [
    "a=[[0,0,0,1,0],[2,0,0,0,3],[0,0,0,4,0]]\n",
    "d={}\n",
    "\n",
    "for i in range(len(a)):\n",
    "    for j in range(len(a[i])):\n",
    "        if(a[i][j]!=0):\n",
    "            d[i,j]=a[i][j]\n",
    "                   \n",
    "print(d)"
   ]
  },
  {
   "cell_type": "code",
   "execution_count": 7,
   "metadata": {},
   "outputs": [
    {
     "name": "stdout",
     "output_type": "stream",
     "text": [
      "bell\n",
      "b e "
     ]
    }
   ],
   "source": [
    "n=input()\n",
    "for i in range(len(n)):\n",
    "    if(n.count(n[i])==1):\n",
    "        print(n[i],end=\" \")"
   ]
  },
  {
   "cell_type": "code",
   "execution_count": 9,
   "metadata": {},
   "outputs": [
    {
     "name": "stdout",
     "output_type": "stream",
     "text": [
      "sucess\n",
      "3\n"
     ]
    }
   ],
   "source": [
    "s=input()\n",
    "print(s.count('s'))"
   ]
  },
  {
   "cell_type": "code",
   "execution_count": 17,
   "metadata": {},
   "outputs": [
    {
     "ename": "AttributeError",
     "evalue": "'list' object has no attribute 'printnum'",
     "output_type": "error",
     "traceback": [
      "\u001b[1;31m---------------------------------------------------------------------------\u001b[0m",
      "\u001b[1;31mAttributeError\u001b[0m                            Traceback (most recent call last)",
      "\u001b[1;32m<ipython-input-17-dcdd4cfde08a>\u001b[0m in \u001b[0;36m<module>\u001b[1;34m\u001b[0m\n\u001b[0;32m     37\u001b[0m     \u001b[0ml1\u001b[0m\u001b[1;33m.\u001b[0m\u001b[0mappend\u001b[0m\u001b[1;33m(\u001b[0m\u001b[1;36m5\u001b[0m\u001b[1;33m)\u001b[0m\u001b[1;33m\u001b[0m\u001b[1;33m\u001b[0m\u001b[0m\n\u001b[0;32m     38\u001b[0m     \u001b[0ml1\u001b[0m\u001b[1;33m.\u001b[0m\u001b[0mappend\u001b[0m\u001b[1;33m(\u001b[0m\u001b[1;36m8\u001b[0m\u001b[1;33m)\u001b[0m\u001b[1;33m\u001b[0m\u001b[1;33m\u001b[0m\u001b[0m\n\u001b[1;32m---> 39\u001b[1;33m     \u001b[0mprint\u001b[0m\u001b[1;33m(\u001b[0m\u001b[0ml1\u001b[0m\u001b[1;33m.\u001b[0m\u001b[0mprintnum\u001b[0m\u001b[1;33m(\u001b[0m\u001b[1;33m)\u001b[0m\u001b[1;33m)\u001b[0m\u001b[1;33m\u001b[0m\u001b[1;33m\u001b[0m\u001b[0m\n\u001b[0m",
      "\u001b[1;31mAttributeError\u001b[0m: 'list' object has no attribute 'printnum'"
     ]
    }
   ],
   "source": [
    "class Node:\n",
    "    def __init__(self,num):\n",
    "        self.num =num\n",
    "        self.next=None\n",
    "class Llist:\n",
    "    def __init__(self):\n",
    "        self.head=None\n",
    "    def push(self, newnum):\n",
    "        newnum=Node(newnum)\n",
    "        newnum.next=self.head\n",
    "        self.head=newnode\n",
    "    def insertnext(self,prenode,newnode):\n",
    "        if prenode is None:\n",
    "            print('the previous node')\n",
    "            return\n",
    "        newnode=node(newnum)\n",
    "        newnode.next=prenode.next\n",
    "        prenode.next=newnode\n",
    "    def append(self,newnum):\n",
    "        newnode=node(newnum)\n",
    "        if self.head is None:\n",
    "            self.head=newnode\n",
    "            return\n",
    "        last=self.head\n",
    "        while(last.next):\n",
    "            last=last.next\n",
    "        last.next=newnode\n",
    "    def printnum(self):\n",
    "        t=self.head\n",
    "        while(t):\n",
    "            print(t.data)\n",
    "            t=temp.next\n",
    "if __name__=='__main__':\n",
    "    l1=list()\n",
    "    l1.append(1)\n",
    "    l1.append(3)\n",
    "    l1.append(5)\n",
    "    l1.append(8)\n",
    "    print(l1.printnum())"
   ]
  },
  {
   "cell_type": "code",
   "execution_count": null,
   "metadata": {},
   "outputs": [],
   "source": []
  }
 ],
 "metadata": {
  "kernelspec": {
   "display_name": "Python 3",
   "language": "python",
   "name": "python3"
  },
  "language_info": {
   "codemirror_mode": {
    "name": "ipython",
    "version": 3
   },
   "file_extension": ".py",
   "mimetype": "text/x-python",
   "name": "python",
   "nbconvert_exporter": "python",
   "pygments_lexer": "ipython3",
   "version": "3.7.3"
  }
 },
 "nbformat": 4,
 "nbformat_minor": 2
}
