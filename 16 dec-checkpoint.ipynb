{
 "cells": [
  {
   "cell_type": "code",
   "execution_count": 2,
   "metadata": {},
   "outputs": [
    {
     "name": "stdout",
     "output_type": "stream",
     "text": [
      "2\n"
     ]
    }
   ],
   "source": [
    "print(100//2%3)"
   ]
  },
  {
   "cell_type": "code",
   "execution_count": 3,
   "metadata": {},
   "outputs": [
    {
     "name": "stdout",
     "output_type": "stream",
     "text": [
      "<class 'str'>\n"
     ]
    }
   ],
   "source": [
    "print(str)"
   ]
  },
  {
   "cell_type": "code",
   "execution_count": 4,
   "metadata": {},
   "outputs": [
    {
     "name": "stdout",
     "output_type": "stream",
     "text": [
      "<built-in function chr>\n"
     ]
    }
   ],
   "source": [
    "print(chr)"
   ]
  },
  {
   "cell_type": "code",
   "execution_count": 5,
   "metadata": {},
   "outputs": [
    {
     "name": "stdout",
     "output_type": "stream",
     "text": [
      "22\n",
      "this is class method\n"
     ]
    }
   ],
   "source": [
    "class abc:\n",
    "    var=22\n",
    "    def show(self):\n",
    "        print(\"this is class method\")\n",
    "obj=abc()\n",
    "print(obj.var)\n",
    "obj.show()"
   ]
  },
  {
   "cell_type": "code",
   "execution_count": 6,
   "metadata": {},
   "outputs": [
    {
     "name": "stdout",
     "output_type": "stream",
     "text": [
      "this is class method\n"
     ]
    }
   ],
   "source": [
    "obj.show()"
   ]
  },
  {
   "cell_type": "code",
   "execution_count": 8,
   "metadata": {},
   "outputs": [
    {
     "name": "stdout",
     "output_type": "stream",
     "text": [
      "In class method\n",
      "10\n"
     ]
    }
   ],
   "source": [
    "class bcd:\n",
    "    def __init__(self,val):\n",
    "        print(\"In class method\")\n",
    "        self.val=val\n",
    "        print(val)\n",
    "obj=bcd(10)"
   ]
  },
  {
   "cell_type": "code",
   "execution_count": 13,
   "metadata": {},
   "outputs": [
    {
     "name": "stdout",
     "output_type": "stream",
     "text": [
      "the obj variable is  10\n",
      "the class value  1\n",
      "the obj variable is  20\n",
      "the class value  2\n",
      "the obj variable is  30\n",
      "the class value  3\n"
     ]
    }
   ],
   "source": [
    "class cde:\n",
    "    class_var=0 #class variable\n",
    "    def __init__(self,var):\n",
    "        cde.class_var+=1 #increments everytime object is declared\n",
    "        self.var=var #obj variable\n",
    "        print(\"the obj variable is \",var)\n",
    "        print(\"the class value \",cde.class_var)\n",
    "ob1=cde(10)\n",
    "ob2=cde(20)\n",
    "ob3=cde(30)"
   ]
  },
  {
   "cell_type": "code",
   "execution_count": 16,
   "metadata": {},
   "outputs": [
    {
     "name": "stdout",
     "output_type": "stream",
     "text": [
      "N=4\n",
      "4  is even\n"
     ]
    }
   ],
   "source": [
    "class number:\n",
    "    even=0\n",
    "    def check(self,num):\n",
    "        if(num%2==0):\n",
    "            self.even=1\n",
    "    def even_odd(self,num):\n",
    "        self.check(num)\n",
    "        if self.even==1:\n",
    "            print(num,\" is even\")\n",
    "        else:\n",
    "            print(num,\" is even\")\n",
    "n=int(input(\"N=\"))\n",
    "ob=number()\n",
    "ob.even_odd(n)"
   ]
  },
  {
   "cell_type": "code",
   "execution_count": 40,
   "metadata": {},
   "outputs": [
    {
     "name": "stdout",
     "output_type": "stream",
     "text": [
      "Enter a list of numbers12 41 10 24\n",
      "even : [12, 10, 24]\n",
      "odd : [41]\n"
     ]
    }
   ],
   "source": [
    "class number:\n",
    "    global e\n",
    "    global o\n",
    "    e=[]\n",
    "    o=[]\n",
    "    \n",
    "    def even_odd(self,num):\n",
    "        if num%2==0:\n",
    "            e.append(num)\n",
    "        else:\n",
    "            o.append(num)\n",
    "    def show(self):\n",
    "        print(\"even :\",e)\n",
    "        print(\"odd :\",o)\n",
    "\n",
    "ob=number()\n",
    "\n",
    "l=input(\"Enter a list of numbers: \").split()\n",
    "l=[int(i) for i in l]\n",
    "i=0\n",
    "for i in l:\n",
    "    ob.even_odd(i)\n",
    "ob.show()"
   ]
  },
  {
   "cell_type": "code",
   "execution_count": 42,
   "metadata": {},
   "outputs": [
    {
     "name": "stdout",
     "output_type": "stream",
     "text": [
      "N=10\n",
      "Prime numbers : [2, 3, 5, 7]\n",
      "Composite numbers : [1, 4, 6, 8, 9, 10]\n"
     ]
    }
   ],
   "source": [
    "class prime:\n",
    "    global pr\n",
    "    global co\n",
    "    pr=[]\n",
    "    co=[]\n",
    "    \n",
    "    def p(self,num):\n",
    "        f=0\n",
    "        for j in range(1,num//2+1):\n",
    "            if(num%j==0):\n",
    "                f+=1\n",
    "        if f==1:\n",
    "            pr.append(num)\n",
    "        else:\n",
    "            co.append(num)\n",
    "    def show(self):\n",
    "        print(\"Prime numbers :\",pr)\n",
    "        print(\"Composite numbers :\",co)\n",
    "        \n",
    "o=prime()\n",
    "n=int(input(\"N=\"))\n",
    "for i in range(1,n+1):\n",
    "    o.p(i)\n",
    "o.show()\n",
    "            "
   ]
  },
  {
   "cell_type": "code",
   "execution_count": 69,
   "metadata": {},
   "outputs": [
    {
     "name": "stdout",
     "output_type": "stream",
     "text": [
      "the object value is  10\n",
      "the class value is  1\n",
      "the object value is  11\n",
      "the class value is  2\n",
      "the object value is  12\n",
      "the class value is  3\n",
      "the object with value  10   is going out of scope \n",
      "the class value is  2\n",
      "the object with value  12   is going out of scope \n",
      "the class value is  1\n",
      "the object with value  11   is going out of scope \n",
      "the class value is  0\n"
     ]
    }
   ],
   "source": [
    "#demonstrate delete method\n",
    "class abc():\n",
    "    class_var=0\n",
    "    def __init__(self,var):\n",
    "        abc.class_var+=1\n",
    "        self.var=var\n",
    "        print(\"the object value is \",var)\n",
    "        print(\"the class value is \",abc.class_var)\n",
    "        \n",
    "    def __del__(self):\n",
    "        abc.class_var-=1\n",
    "        print(\"the object with value \",self.var,\"  is going out of scope \")\n",
    "        print(\"the class value is \",abc.class_var)\n",
    "        \n",
    "obj=abc(10)\n",
    "ob1=abc(11)\n",
    "ob2=abc(12)\n",
    "del obj\n",
    "del ob2\n",
    "del ob1"
   ]
  },
  {
   "cell_type": "markdown",
   "metadata": {},
   "source": [
    "1. _repr----Syntax report of the object\n",
    "2. _cmp_----compares two class objects\n",
    "3. _len_----len(object)\n",
    "4. _call_---it acts like a function to call its instances\n",
    "5. _it, __le, __eq, __ne, __gt, __ge_--- compares 2 objects based on instances\n",
    "6. _iter_----iteration over an object\n",
    "7. _getitem_----used for indexing\n",
    "     gs: def _getitem_(self, var/key)\n",
    "8. setitem assign an item to the indexed value"
   ]
  },
  {
   "cell_type": "code",
   "execution_count": 73,
   "metadata": {},
   "outputs": [
    {
     "name": "stdout",
     "output_type": "stream",
     "text": [
      "4\n",
      "[1, 2, 3, 4, 5, 6, 7, 8, 9]\n",
      "[1, 2, 3, 10, 5, 6, 7, 8, 9]\n",
      "10\n"
     ]
    }
   ],
   "source": [
    "#set item in the list\n",
    "class number:\n",
    "    def __init__(self, mylist):\n",
    "        self.mylist = mylist\n",
    "    def __getitem__(self, index):\n",
    "        return self.mylist[index]\n",
    "    def __setitem__(self, index, val):\n",
    "        self.mylist[index] = val\n",
    "        \n",
    "numlist = number([1,2,3,4,5,6,7,8,9])\n",
    "print(numlist[3])\n",
    "print(numlist.mylist)\n",
    "numlist[3]=10\n",
    "print(numlist.mylist)\n",
    "print(numlist[3])"
   ]
  },
  {
   "cell_type": "code",
   "execution_count": 78,
   "metadata": {},
   "outputs": [
    {
     "name": "stdout",
     "output_type": "stream",
     "text": [
      "17\n",
      "10001"
     ]
    }
   ],
   "source": [
    "def dtp(n):\n",
    "    if(n>=1):\n",
    "        print(n%2,end=\"\")\n",
    "        return dtp(n//2)\n",
    "    #print(1)\n",
    "    \n",
    "n=int(input())\n",
    "dtp(n)"
   ]
  },
  {
   "cell_type": "code",
   "execution_count": 80,
   "metadata": {},
   "outputs": [
    {
     "name": "stdout",
     "output_type": "stream",
     "text": [
      "the value stored in obj is 10\n",
      "the length of the name stored in obj 4\n",
      "2nd value is less than 1st\n"
     ]
    }
   ],
   "source": [
    "class abc():\n",
    "    def __init__(self,name,var):\n",
    "        self.name=name\n",
    "        self.var=var\n",
    "    def __repr__(self):\n",
    "        return repr(self.var)\n",
    "    def __len__(self):\n",
    "        return len(self.name)\n",
    "    def __cmp__(self,obj):\n",
    "        return self.var- obj.var\n",
    "obj=abc('abcd',10)\n",
    "print('the value stored in obj is',repr(obj))\n",
    "print('the length of the name stored in obj',len(obj))\n",
    "obj1=abc('efgh',1)\n",
    "val=obj.__cmp__ (obj1)\n",
    "if val==0:\n",
    "    print(\"both values are equal\")\n",
    "elif val==1:\n",
    "    print('1st value is less than second')\n",
    "else:\n",
    "    print('2nd value is less than 1st')"
   ]
  },
  {
   "cell_type": "code",
   "execution_count": 83,
   "metadata": {},
   "outputs": [
    {
     "name": "stdout",
     "output_type": "stream",
     "text": [
      "This from class method,var= 10\n"
     ]
    }
   ],
   "source": [
    "#demostarte private method\n",
    "class abc():\n",
    "    def __init__(self,var):\n",
    "        self.__var=var\n",
    "    def __display(self):\n",
    "        print(\"This from class method,var=\",self.__var)\n",
    "obj=abc(10)\n",
    "obj._abc__display()"
   ]
  },
  {
   "cell_type": "code",
   "execution_count": 84,
   "metadata": {},
   "outputs": [
    {
     "name": "stdout",
     "output_type": "stream",
     "text": [
      "var is = 12\n"
     ]
    }
   ],
   "source": [
    "#to call a class method form another method of same class\n",
    "class abc():\n",
    "    def __init__(self,var):\n",
    "        self.var=var\n",
    "    def display(self):\n",
    "        print('var is =',self.var)\n",
    "    def add_2(self):\n",
    "        self.var+=2\n",
    "        self.display()\n",
    "obj=abc(10)\n",
    "obj.add_2()"
   ]
  },
  {
   "cell_type": "code",
   "execution_count": 86,
   "metadata": {},
   "outputs": [
    {
     "name": "stdout",
     "output_type": "stream",
     "text": [
      "var is= 10\n",
      "var is= 100\n"
     ]
    }
   ],
   "source": [
    "#program to show how a class method calls a function which is defined in the global name space\n",
    "def scale_10(x):\n",
    "    return x*10\n",
    "class abc():\n",
    "    def __init__(self,var):\n",
    "        self.var=var\n",
    "    def display(self):\n",
    "        print('var is=',self.var)\n",
    "    def modify(self):\n",
    "        self.var=scale_10(self.var)\n",
    "obj=abc(10)\n",
    "obj.display()\n",
    "obj.modify()\n",
    "obj.display()"
   ]
  },
  {
   "cell_type": "markdown",
   "metadata": {},
   "source": [
    "#### Bulit-in attributes for get , set and delete\n",
    "1. hasattr(obj,name) - checks obj possesses the attributes values or not\n",
    "2. getattr(obj, name[,default])\n",
    "3. setattr(obj, name, value) - Which is used to set an attribute of the object\n",
    "4. delattr(obj, name) \n"
   ]
  },
  {
   "cell_type": "code",
   "execution_count": 93,
   "metadata": {},
   "outputs": [
    {
     "name": "stdout",
     "output_type": "stream",
     "text": [
      "var is 10\n",
      "check whether obj has attribute var?\n",
      "after setting value,var is 50\n",
      "new variable count is created and its val= 10\n",
      "after deleting the attr,var is= False\n"
     ]
    }
   ],
   "source": [
    "#program to demo built in\n",
    "class abc():\n",
    "    def __init__(self,var):\n",
    "        self.var=var\n",
    "    def display(self):\n",
    "        print('var is',self.var)\n",
    "obj=abc(10)\n",
    "obj.display()\n",
    "print('check whether obj has attribute var?')\n",
    "getattr(obj,'var')\n",
    "setattr(obj,'var',50)\n",
    "print('after setting value,var is',obj.var)\n",
    "setattr(obj,'count',10)\n",
    "print('new variable count is created and its val=',obj.count)\n",
    "delattr(obj,'var')\n",
    "setattr(obj,'var',40)\n",
    "print('after deleting the attr,var is=',hasattr(obj,'var'))"
   ]
  },
  {
   "cell_type": "markdown",
   "metadata": {},
   "source": [
    "#### Built  in-class attributes\n",
    "1. _dict___\n",
    "2. _doc___\n",
    "3. _name___\n",
    "4. _bases___"
   ]
  },
  {
   "cell_type": "code",
   "execution_count": 98,
   "metadata": {},
   "outputs": [
    {
     "name": "stdout",
     "output_type": "stream",
     "text": [
      "5 3 \n",
      "1 2 3 4 5\n",
      "1 2 3\n",
      "{1, 2, 3, 4, 5}\n"
     ]
    }
   ],
   "source": [
    "n,m=[int(x) for x in input().split()]\n",
    "A=[int(y) for y in input().split()]\n",
    "B=[int(q) for q in input().split()]\n",
    "A=set(A)\n",
    "B=set(B)\n",
    "\n",
    "print(A.union(B))"
   ]
  },
  {
   "cell_type": "code",
   "execution_count": 100,
   "metadata": {},
   "outputs": [
    {
     "name": "stdout",
     "output_type": "stream",
     "text": [
      "Enter number of elements : 5\n",
      "1\n",
      "2\n",
      "3\n",
      "4\n",
      "5\n",
      "[1, 2, 3, 4, 5]\n"
     ]
    }
   ],
   "source": [
    "lst = []\n",
    "n = int(input(\"Enter number of elements : \"))\n",
    "for i in range(0, n):\n",
    "    ele = int(input())\n",
    "    lst.append(ele) \n",
    "print(lst)"
   ]
  },
  {
   "cell_type": "code",
   "execution_count": null,
   "metadata": {},
   "outputs": [],
   "source": []
  }
 ],
 "metadata": {
  "kernelspec": {
   "display_name": "Python 3",
   "language": "python",
   "name": "python3"
  },
  "language_info": {
   "codemirror_mode": {
    "name": "ipython",
    "version": 3
   },
   "file_extension": ".py",
   "mimetype": "text/x-python",
   "name": "python",
   "nbconvert_exporter": "python",
   "pygments_lexer": "ipython3",
   "version": "3.7.3"
  }
 },
 "nbformat": 4,
 "nbformat_minor": 2
}
