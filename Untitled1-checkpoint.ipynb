{
 "cells": [
  {
   "cell_type": "code",
   "execution_count": 1,
   "metadata": {},
   "outputs": [
    {
     "name": "stdout",
     "output_type": "stream",
     "text": [
      "hello\n"
     ]
    }
   ],
   "source": [
    "print(\"hello\")"
   ]
  },
  {
   "cell_type": "code",
   "execution_count": 4,
   "metadata": {
    "scrolled": true
   },
   "outputs": [
    {
     "name": "stdout",
     "output_type": "stream",
     "text": [
      "10\n"
     ]
    }
   ],
   "source": [
    "a=10\n",
    "print(a)\n"
   ]
  },
  {
   "cell_type": "code",
   "execution_count": 5,
   "metadata": {
    "scrolled": true
   },
   "outputs": [
    {
     "name": "stdout",
     "output_type": "stream",
     "text": [
      "20\n"
     ]
    }
   ],
   "source": [
    "b=a+10\n",
    "print(b)"
   ]
  },
  {
   "cell_type": "code",
   "execution_count": 7,
   "metadata": {},
   "outputs": [
    {
     "name": "stdout",
     "output_type": "stream",
     "text": [
      "e\n",
      "e\n"
     ]
    }
   ],
   "source": [
    "st=\"netherlands\"\n",
    "print(st[1])\n",
    "print(st[-10])"
   ]
  },
  {
   "cell_type": "code",
   "execution_count": 11,
   "metadata": {
    "scrolled": true
   },
   "outputs": [
    {
     "name": "stdout",
     "output_type": "stream",
     "text": [
      "nether\n"
     ]
    }
   ],
   "source": [
    "print(st[0:6])"
   ]
  },
  {
   "cell_type": "code",
   "execution_count": 13,
   "metadata": {
    "scrolled": true
   },
   "outputs": [
    {
     "name": "stdout",
     "output_type": "stream",
     "text": [
      "11\n"
     ]
    }
   ],
   "source": [
    "print(len(st))"
   ]
  },
  {
   "cell_type": "code",
   "execution_count": 15,
   "metadata": {},
   "outputs": [
    {
     "name": "stdout",
     "output_type": "stream",
     "text": [
      "shiva \n",
      "ujjwal \n",
      "kurimilla\n"
     ]
    }
   ],
   "source": [
    "st=\"\"\"shiva \n",
    "ujjwal \n",
    "kurimilla\"\"\"\n",
    "print(st)"
   ]
  },
  {
   "cell_type": "code",
   "execution_count": 17,
   "metadata": {},
   "outputs": [
    {
     "name": "stdout",
     "output_type": "stream",
     "text": [
      "10\n",
      "20\n",
      "10\n",
      "20\n"
     ]
    }
   ],
   "source": [
    "a=10\n",
    "b=20\n",
    "print(a)\n",
    "print(b)\n",
    "\n",
    "\n",
    "\n",
    "print(a)\n",
    "print(b)"
   ]
  },
  {
   "cell_type": "code",
   "execution_count": 21,
   "metadata": {},
   "outputs": [
    {
     "name": "stdout",
     "output_type": "stream",
     "text": [
      "5\n"
     ]
    }
   ],
   "source": [
    "def le(string):\n",
    "    return sum(1 for i in string)\n",
    "string = \"shiva\"\n",
    "print(le(string))"
   ]
  },
  {
   "cell_type": "code",
   "execution_count": 23,
   "metadata": {},
   "outputs": [
    {
     "name": "stdout",
     "output_type": "stream",
     "text": [
      "6\n"
     ]
    }
   ],
   "source": [
    "def lent(s):\n",
    "    c=0\n",
    "    while(s[c:]):\n",
    "        c+=1;\n",
    "    return c\n",
    "print(lent(\"ujjwal\"))"
   ]
  },
  {
   "cell_type": "code",
   "execution_count": 26,
   "metadata": {},
   "outputs": [
    {
     "name": "stdout",
     "output_type": "stream",
     "text": [
      "shiva is born in India\n"
     ]
    }
   ],
   "source": [
    "name=\"shiva\"\n",
    "country=\"India\"\n",
    "print(f'{name} is born in {country}')# f--- format"
   ]
  },
  {
   "cell_type": "code",
   "execution_count": 27,
   "metadata": {},
   "outputs": [
    {
     "name": "stdout",
     "output_type": "stream",
     "text": [
      "{1, 2, 3}\n",
      "{'abc', 2.0, (1, 2, 3)}\n"
     ]
    }
   ],
   "source": [
    "m_set = {1,2,3}\n",
    "m1_set = {2.0,(1,2,3),'abc'}\n",
    "print(m_set)\n",
    "print(m1_set)"
   ]
  },
  {
   "cell_type": "code",
   "execution_count": 43,
   "metadata": {},
   "outputs": [
    {
     "name": "stdout",
     "output_type": "stream",
     "text": [
      "Enter no of candies:7\n",
      "NO OF CANDIES ADDED 5 \n",
      "CANDIES THAT ARE AVAILABLE 2\n",
      "CANDIES SOLD 7\n",
      "TOTAL CANDIES LEFT 8\n"
     ]
    }
   ],
   "source": [
    "n=10\n",
    "k=int(input(\"Enter no of candies:\"))\n",
    "m=n-k\n",
    "if(k==0):\n",
    "    print(\"INVALID INPUT\")\n",
    "    print(f\"CANDIES LEFT {n}\")\n",
    "elif(k<5):\n",
    "    print(f\"CANDIES SOLD {k}\" )\n",
    "    print(f\"CANDIES LEFT {m} \")\n",
    "elif(k<=10):\n",
    "    p=k-5\n",
    "    print(f\"NO OF CANDIES ADDED {5} \")\n",
    "    print(f\"CANDIES THAT ARE AVAILABLE {p}\")\n",
    "    print(f\"CANDIES SOLD {k}\")\n",
    "    print(f\"TOTAL CANDIES LEFT {5+m}\")\n",
    "    "
   ]
  },
  {
   "cell_type": "code",
   "execution_count": null,
   "metadata": {},
   "outputs": [],
   "source": [
    "n=int(input(\"Enter string length:\"))\n",
    "s=input(\"Enter string\")\n",
    "print(len(s))\n",
    "if(n!=len(s)):\n",
    "    print(\"INVALID\")\n",
    "else:\n",
    "    i,c=0,0\n",
    "    while(s[i]=='0'):\n",
    "        i+=1\n",
    "    while(s[i]!='0'):\n",
    "        c+=1\n",
    "        i+=1\n",
    "    print(c)    \n",
    "    \n",
    "    "
   ]
  },
  {
   "cell_type": "code",
   "execution_count": null,
   "metadata": {},
   "outputs": [],
   "source": []
  },
  {
   "cell_type": "code",
   "execution_count": null,
   "metadata": {},
   "outputs": [],
   "source": []
  }
 ],
 "metadata": {
  "kernelspec": {
   "display_name": "Python 3",
   "language": "python",
   "name": "python3"
  },
  "language_info": {
   "codemirror_mode": {
    "name": "ipython",
    "version": 3
   },
   "file_extension": ".py",
   "mimetype": "text/x-python",
   "name": "python",
   "nbconvert_exporter": "python",
   "pygments_lexer": "ipython3",
   "version": "3.7.3"
  }
 },
 "nbformat": 4,
 "nbformat_minor": 2
}
