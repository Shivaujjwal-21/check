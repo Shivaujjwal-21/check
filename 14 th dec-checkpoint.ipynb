{
 "cells": [
  {
   "cell_type": "code",
   "execution_count": 6,
   "metadata": {},
   "outputs": [
    {
     "name": "stdout",
     "output_type": "stream",
     "text": [
      "N=4\n",
      "composite\n"
     ]
    }
   ],
   "source": [
    "def isprime(n):\n",
    "    f=0\n",
    "    for i in range(1,(n//2)+1):\n",
    "        if(n%i==0):\n",
    "            f+=1\n",
    "    if(f==1):\n",
    "        return 1\n",
    "    else:\n",
    "        return 0\n",
    "\n",
    "\n",
    "num=int(input(\"N=\"))\n",
    "if(isprime(num)):\n",
    "    print(\"prime\")\n",
    "else:\n",
    "    print(\"composite\")"
   ]
  },
  {
   "cell_type": "code",
   "execution_count": 7,
   "metadata": {},
   "outputs": [
    {
     "name": "stdout",
     "output_type": "stream",
     "text": [
      "<class 'str'>\n"
     ]
    }
   ],
   "source": [
    "print(str)"
   ]
  },
  {
   "cell_type": "code",
   "execution_count": 11,
   "metadata": {},
   "outputs": [
    {
     "name": "stdout",
     "output_type": "stream",
     "text": [
      "Aate\tBate\tCate\tDate\tEate\tFate\tGate\tHate\t"
     ]
    }
   ],
   "source": [
    "st=\"ABCDEFGH\"\n",
    "s =\"ate\"\n",
    "for i in st:\n",
    "    print(i+s, end=\"\\t\")"
   ]
  },
  {
   "cell_type": "code",
   "execution_count": 12,
   "metadata": {},
   "outputs": [],
   "source": [
    "# Basic patterns\n",
    "# Mirror image patterns\n",
    "# Symmetrical patterns\n",
    "# Choice of patterns\n",
    "# Anti patterns/hallow patterns"
   ]
  },
  {
   "cell_type": "code",
   "execution_count": 42,
   "metadata": {},
   "outputs": [
    {
     "name": "stdout",
     "output_type": "stream",
     "text": [
      "N=5\n",
      "* * * * * \n",
      "*       * \n",
      "*       * \n",
      "*       * \n",
      "* * * * * \n"
     ]
    }
   ],
   "source": [
    "#hallow square\n",
    "n=int(input(\"N=\"))\n",
    "for i in range(0,n):\n",
    "    for j in range(0,n):\n",
    "        if((i==0 or j==0 or i==n-1 or j==n-1)):\n",
    "            print(\"*\", end=\" \")\n",
    "        else:\n",
    "            print(\" \",end=\" \")\n",
    "            \n",
    "    print()"
   ]
  },
  {
   "cell_type": "code",
   "execution_count": 39,
   "metadata": {},
   "outputs": [
    {
     "name": "stdout",
     "output_type": "stream",
     "text": [
      "N=4\n",
      "* \n",
      "* * \n",
      "* * * \n",
      "* * * * \n"
     ]
    }
   ],
   "source": [
    "n=int(input(\"N=\"))\n",
    "for i in range(0,n):\n",
    "    for j in range(i+1):\n",
    "        print(\"*\", end=\" \")\n",
    "            \n",
    "    print()"
   ]
  },
  {
   "cell_type": "code",
   "execution_count": 38,
   "metadata": {},
   "outputs": [
    {
     "name": "stdout",
     "output_type": "stream",
     "text": [
      "N=5\n",
      "1 \n",
      "1 2 \n",
      "1 2 3 \n",
      "1 2 3 4 \n",
      "1 2 3 4 5 \n"
     ]
    }
   ],
   "source": [
    "n=int(input(\"N=\"))\n",
    "for i in range(0,n):\n",
    "    for j in range(i+1):\n",
    "        print(j+1, end=\" \")\n",
    "            \n",
    "    print()"
   ]
  },
  {
   "cell_type": "code",
   "execution_count": 37,
   "metadata": {},
   "outputs": [
    {
     "name": "stdout",
     "output_type": "stream",
     "text": [
      "N=5\n",
      "1 \n",
      "2 2 \n",
      "3 3 3 \n",
      "4 4 4 4 \n",
      "5 5 5 5 5 \n"
     ]
    }
   ],
   "source": [
    "n=int(input(\"N=\"))\n",
    "for i in range(0,n):\n",
    "    for j in range(i+1):\n",
    "        print(i+1, end=\" \")\n",
    "            \n",
    "    print()"
   ]
  },
  {
   "cell_type": "code",
   "execution_count": 36,
   "metadata": {},
   "outputs": [
    {
     "name": "stdout",
     "output_type": "stream",
     "text": [
      "N=5\n",
      "* * * * * \n",
      "* * * * \n",
      "* * * \n",
      "* * \n",
      "* \n"
     ]
    }
   ],
   "source": [
    "n=int(input(\"N=\"))\n",
    "for i in range(n,0,-1):\n",
    "    for j in range(i):\n",
    "        print(\"*\", end=\" \")\n",
    "            \n",
    "    print()"
   ]
  },
  {
   "cell_type": "code",
   "execution_count": 43,
   "metadata": {},
   "outputs": [
    {
     "name": "stdout",
     "output_type": "stream",
     "text": [
      "N=5\n",
      "1 2 3 4 5 \n",
      "1 2 3 4 \n",
      "1 2 3 \n",
      "1 2 \n",
      "1 \n"
     ]
    }
   ],
   "source": [
    "n=int(input(\"N=\"))\n",
    "for i in range(n,0,-1):\n",
    "    for j in range(i):\n",
    "        print(j+1, end=\" \")\n",
    "            \n",
    "    print()"
   ]
  },
  {
   "cell_type": "code",
   "execution_count": 44,
   "metadata": {},
   "outputs": [
    {
     "name": "stdout",
     "output_type": "stream",
     "text": [
      "N=5\n",
      "* * * * * * \n",
      "  * * * * * \n",
      "    * * * * \n",
      "      * * * \n",
      "        * * \n",
      "          * \n"
     ]
    }
   ],
   "source": [
    "n=int(input(\"N=\"))\n",
    "for i in range(n+1):\n",
    "    for j in range(n+1):\n",
    "        if(j<i):\n",
    "            print(\" \",end=\" \")\n",
    "        else:\n",
    "            print(\"*\", end=\" \")\n",
    "            \n",
    "    print()"
   ]
  },
  {
   "cell_type": "code",
   "execution_count": 33,
   "metadata": {},
   "outputs": [
    {
     "name": "stdout",
     "output_type": "stream",
     "text": [
      "N=5\n",
      "          1 \n",
      "        1 2 \n",
      "      1 2 3 \n",
      "    1 2 3 4 \n",
      "  1 2 3 4 5 \n"
     ]
    }
   ],
   "source": [
    "n=int(input(\"N=\"))\n",
    "\n",
    "for i in range(n,0,-1):\n",
    "    k=1\n",
    "    for j in range(n+1):\n",
    "        if(j<i):\n",
    "            print(\" \",end=\" \")\n",
    "        else:\n",
    "            print(k, end=\" \")\n",
    "            k+=1\n",
    "            \n",
    "    print()"
   ]
  },
  {
   "cell_type": "code",
   "execution_count": 19,
   "metadata": {},
   "outputs": [
    {
     "name": "stdout",
     "output_type": "stream",
     "text": [
      "N=7\n",
      "       \n",
      "      * \n",
      "     * * \n",
      "    * * * \n",
      "   * * * * \n",
      "  * * * * * \n",
      " * * * * * * \n",
      "* * * * * * * \n",
      " * * * * * * \n",
      "  * * * * * \n",
      "   * * * * \n",
      "    * * * \n",
      "     * * \n",
      "      * \n"
     ]
    }
   ],
   "source": [
    "n=int(input(\"N=\"))\n",
    "for i in range(n,0,-1):\n",
    "    for j in range(n):\n",
    "        if(j<i):\n",
    "            print(\" \",end=\"\")\n",
    "        else:\n",
    "            print(\"*\", end=\" \")\n",
    "            \n",
    "    print()\n",
    "for i in range(n):\n",
    "    for j in range(n):\n",
    "        if(j<i):\n",
    "            print(\" \",end=\"\")\n",
    "        else:\n",
    "            print(\"*\", end=\" \")\n",
    "            \n",
    "    print()"
   ]
  },
  {
   "cell_type": "code",
   "execution_count": 34,
   "metadata": {},
   "outputs": [
    {
     "name": "stdout",
     "output_type": "stream",
     "text": [
      "N=7\n",
      "*   *   *   *   *   *   *   \n",
      "*           *   *   *   *   \n",
      "*               *   *   *   \n",
      "*   *               *   *   \n",
      "*   *   *               *   \n",
      "*   *   *   *           *   \n",
      "*   *   *   *   *   *   *   \n"
     ]
    }
   ],
   "source": [
    "n=int(input(\"N=\"))\n",
    "for i in range(n):\n",
    "    for j in range(0,n):\n",
    "        if((i==0 or j==0 or i==n-1 or j==n-1)):\n",
    "            print(\"*\", end=\"   \")\n",
    "        elif(j<i-1):\n",
    "            print(\"*\",end=\"   \")\n",
    "        elif(j-1>i):\n",
    "            print(\"*\",end=\"   \")\n",
    "        else:\n",
    "            print(\" \",end=\"   \")\n",
    "            \n",
    "            \n",
    "    print()\n",
    "    "
   ]
  },
  {
   "cell_type": "code",
   "execution_count": 2,
   "metadata": {},
   "outputs": [
    {
     "name": "stdout",
     "output_type": "stream",
     "text": [
      "S=INDIA\n",
      "I\n",
      "IN\n",
      "IND\n",
      "INDI\n",
      "INDIA\n"
     ]
    }
   ],
   "source": [
    "import time\n",
    "n=input(\"S=\")\n",
    "ct=\"\"\n",
    "for i in n:\n",
    "    print(ct+i)\n",
    "    ct+=i  \n",
    "    time.sleep(1)"
   ]
  },
  {
   "cell_type": "code",
   "execution_count": 10,
   "metadata": {},
   "outputs": [
    {
     "name": "stdout",
     "output_type": "stream",
     "text": [
      "Enter a string :malayalam\n",
      "palindrome\n"
     ]
    }
   ],
   "source": [
    "s=str(input(\"Enter a string :\"))\n",
    "r=\"\".join(reversed(s))\n",
    "if(s==r):\n",
    "    print(\"palindrome\")\n",
    "else:\n",
    "    print(\"not palindrome\")\n"
   ]
  },
  {
   "cell_type": "code",
   "execution_count": 12,
   "metadata": {},
   "outputs": [
    {
     "name": "stdout",
     "output_type": "stream",
     "text": [
      "A \n",
      "B C \n",
      "D E F \n",
      "G H I J \n",
      "K L M N O \n",
      "P Q R S T U \n",
      "V W X Y Z [ \\ \n"
     ]
    }
   ],
   "source": [
    "a=65\n",
    "r=7\n",
    "for i in range(r):\n",
    "    for j in range(i+1):\n",
    "        print(chr(a) , end=\" \")\n",
    "        a+=1\n",
    "    print()"
   ]
  },
  {
   "cell_type": "code",
   "execution_count": 47,
   "metadata": {},
   "outputs": [
    {
     "name": "stdout",
     "output_type": "stream",
     "text": [
      "     A \n",
      "    B C \n",
      "   D E F \n",
      "  G H I J \n",
      " K L M N O \n"
     ]
    }
   ],
   "source": [
    "a=65\n",
    "r=5\n",
    "for i in range(r,0,-1):\n",
    "    for j in range(r+1):\n",
    "        if(j<i):\n",
    "            print(\" \",end=\"\")\n",
    "        else:\n",
    "            print(chr(a), end=\" \")\n",
    "            a+=1\n",
    "    print()"
   ]
  },
  {
   "cell_type": "code",
   "execution_count": 46,
   "metadata": {},
   "outputs": [
    {
     "name": "stdout",
     "output_type": "stream",
     "text": [
      "A B C D E F G \n",
      " H I J K L M \n",
      "  N O P Q R \n",
      "   S T U V \n",
      "    W X Y \n",
      "     Z [ \n",
      "      \\ \n"
     ]
    }
   ],
   "source": [
    "a=65\n",
    "r=7\n",
    "for i in range(r):\n",
    "    for j in range(r):\n",
    "        if(j<i):\n",
    "            print(\" \",end=\"\")\n",
    "        else:\n",
    "            print(chr(a), end=\" \")\n",
    "            a+=1\n",
    "    print()"
   ]
  },
  {
   "cell_type": "code",
   "execution_count": 1,
   "metadata": {},
   "outputs": [
    {
     "name": "stdout",
     "output_type": "stream",
     "text": [
      "N=10\n",
      "1 \n",
      "2 4 \n",
      "3 6 9 \n",
      "4 8 12 16 \n",
      "5 10 15 20 25 \n",
      "6 12 18 24 30 36 \n",
      "7 14 21 28 35 42 49 \n",
      "8 16 24 32 40 48 56 64 \n",
      "9 18 27 36 45 54 63 72 81 \n",
      "10 20 30 40 50 60 70 80 90 100 \n"
     ]
    }
   ],
   "source": [
    "r=int(input(\"N=\"))\n",
    "for i in range(1,r+1):\n",
    "    for j in range(1,i+1):\n",
    "        print(i*j,end=\" \")\n",
    "    print()"
   ]
  },
  {
   "cell_type": "code",
   "execution_count": 11,
   "metadata": {},
   "outputs": [
    {
     "name": "stdout",
     "output_type": "stream",
     "text": [
      "N=9\n",
      "*                 \n",
      "* *               \n",
      "*   *             \n",
      "*     *           \n",
      "*       *         \n",
      "*         *       \n",
      "*           *     \n",
      "*             *   \n",
      "* * * * * * * * * \n"
     ]
    }
   ],
   "source": [
    "n=int(input(\"N=\"))\n",
    "for i in range(1,n+1):\n",
    "    for j in range(1,n+1):\n",
    "        if(i==n or i==j or j==1):\n",
    "            print(\"*\",end=\" \")\n",
    "        else:\n",
    "            print(\" \", end=\" \")\n",
    "            \n",
    "    print()"
   ]
  },
  {
   "cell_type": "code",
   "execution_count": 12,
   "metadata": {},
   "outputs": [
    {
     "name": "stdout",
     "output_type": "stream",
     "text": [
      "50\n"
     ]
    }
   ],
   "source": [
    "def diff(a,b):\n",
    "    return a*b\n",
    "x=10\n",
    "y=5\n",
    "op=diff\n",
    "print(op(x,y))"
   ]
  },
  {
   "cell_type": "code",
   "execution_count": 13,
   "metadata": {},
   "outputs": [
    {
     "name": "stdout",
     "output_type": "stream",
     "text": [
      "N=10\n",
      "* * * * * * * * * \n",
      "* * * *   * * * * \n",
      "* * *       * * * \n",
      "* *           * * \n",
      "*               * \n",
      "* *           * * \n",
      "* * *       * * * \n",
      "* * * *   * * * * \n",
      "* * * * * * * * * \n"
     ]
    }
   ],
   "source": [
    "n=int(input(\"N=\"))\n",
    "n=n//2\n",
    "for i in range(1,(n+1)):\n",
    "    for j in range(1,n+1):\n",
    "        if(j<=n-i+1):\n",
    "            print(\"*\",end=\" \")\n",
    "        else:\n",
    "            print(\" \", end=\" \")\n",
    "            \n",
    "\n",
    "    \n",
    "    for j in range(n+1,2*(n)):\n",
    "        if(n+i<=j+1):\n",
    "             print(\"*\",end=\" \")\n",
    "        else:\n",
    "            print( \" \",end=\" \")\n",
    "    print()\n",
    "for i in range(1,(n)):\n",
    "    for j in range(1,n+1):\n",
    "        if(j-1<=i):\n",
    "            print(\"*\",end=\" \")\n",
    "        else:\n",
    "            print(\" \", end=\" \")\n",
    "            \n",
    "\n",
    "    \n",
    "    for j in range(n+1,2*(n)):\n",
    "        if(j>=2*n-i-1):\n",
    "             print(\"*\",end=\" \")\n",
    "        else:\n",
    "            print( \" \",end=\" \")\n",
    "    print()"
   ]
  },
  {
   "cell_type": "code",
   "execution_count": 6,
   "metadata": {},
   "outputs": [
    {
     "name": "stdout",
     "output_type": "stream",
     "text": [
      "A=2\n",
      "B=15\n",
      "Prime numbers between 2 and 15 are\n",
      "2 3 5 7 11 13 "
     ]
    }
   ],
   "source": [
    "a=int(input(\"A=\"))\n",
    "b=int(input(\"B=\"))\n",
    "if (a>b or a<=0 or b<=0 or a==b):\n",
    "    print(\"INVALID INPUT\")\n",
    "    exit\n",
    "else:\n",
    "    j=a\n",
    "    print(f\"Prime numbers between {a} and {b} are\")\n",
    "    while(j<=b):\n",
    "        flag=0\n",
    "        for i in range(1,(j//2)+1):\n",
    "            if(j%i==0):\n",
    "                flag+=1\n",
    "        if(flag==1):\n",
    "            print(j, end=\" \")\n",
    "        j+=1"
   ]
  },
  {
   "cell_type": "code",
   "execution_count": 18,
   "metadata": {},
   "outputs": [
    {
     "name": "stdout",
     "output_type": "stream",
     "text": [
      "N=5\n",
      "*       * \n",
      "  *   *   \n",
      "    *     \n",
      "  *   *   \n",
      "*       * \n"
     ]
    }
   ],
   "source": [
    "n=int(input(\"N=\"))\n",
    "for i in range(1,(n+1)):\n",
    "    for j in range(1,n+1):\n",
    "        if(j==n-i+1):\n",
    "            print(\"*\",end=\" \")\n",
    "        elif(i==j):\n",
    "            print(\"*\",end=\" \")\n",
    "        else:\n",
    "            print(\" \", end=\" \")\n",
    "    print()"
   ]
  },
  {
   "cell_type": "code",
   "execution_count": 25,
   "metadata": {},
   "outputs": [
    {
     "name": "stdout",
     "output_type": "stream",
     "text": [
      "N=5\n",
      "        *         \n",
      "        *         \n",
      "        *         \n",
      "        *         \n",
      "* * * * * * * * * \n",
      "        *         \n",
      "        *         \n",
      "        *         \n",
      "        *         \n"
     ]
    }
   ],
   "source": [
    "n=int(input(\"N=\"))\n",
    "for i in range(1,2*n):\n",
    "    for j in range(1,2*n):\n",
    "        if(i==n or j==n):\n",
    "            print(\"*\",end=\" \")\n",
    "        else:\n",
    "            print(\" \", end=\" \")\n",
    "    print()"
   ]
  },
  {
   "cell_type": "code",
   "execution_count": 44,
   "metadata": {},
   "outputs": [
    {
     "name": "stdout",
     "output_type": "stream",
     "text": [
      "N=7\n",
      "* * * * * * * \n",
      "  * * * * *   \n",
      "    * * *     \n",
      "      *       \n",
      "    * * *     \n",
      "  * * * * *   \n",
      "* * * * * * * \n"
     ]
    }
   ],
   "source": [
    "n=int(input(\"N=\"))\n",
    "for i in range(1,(n+1)):\n",
    "    for j in range(1,n+1):\n",
    "        if(j==n-i+1):\n",
    "            print(\"*\",end=\" \")\n",
    "        elif(i==j):\n",
    "            print(\"*\",end=\" \")\n",
    "        elif(i==1 or i==n):\n",
    "            print(\"*\",end=\" \")\n",
    "        elif(i<j and j<n-i+1):\n",
    "            print(\"*\",end=\" \")\n",
    "        elif(i>j and j>n-i+1):\n",
    "            print(\"*\",end=\" \")\n",
    "        else:\n",
    "            print(\" \", end=\" \")\n",
    "    print()\n",
    "    \n"
   ]
  },
  {
   "cell_type": "code",
   "execution_count": 50,
   "metadata": {},
   "outputs": [
    {
     "name": "stdout",
     "output_type": "stream",
     "text": [
      "N=21\n",
      "* * * * * * * * * * * * * * * * * * * * * \n",
      "* * * * * * * * * * * * * * * * * * * * * \n",
      "*   * * * * * * * * * * * * * * * * *   * \n",
      "*     * * * * * * * * * * * * * * *     * \n",
      "*       * * * * * * * * * * * * *       * \n",
      "*         * * * * * * * * * * *         * \n",
      "*           * * * * * * * * *           * \n",
      "*             * * * * * * *             * \n",
      "*               * * * * *               * \n",
      "*                 * * *                 * \n",
      "*                   *                   * \n",
      "*                 * * *                 * \n",
      "*               * * * * *               * \n",
      "*             * * * * * * *             * \n",
      "*           * * * * * * * * *           * \n",
      "*         * * * * * * * * * * *         * \n",
      "*       * * * * * * * * * * * * *       * \n",
      "*     * * * * * * * * * * * * * * *     * \n",
      "*   * * * * * * * * * * * * * * * * *   * \n",
      "* * * * * * * * * * * * * * * * * * * * * \n",
      "* * * * * * * * * * * * * * * * * * * * * \n"
     ]
    }
   ],
   "source": [
    "n=int(input(\"N=\"))\n",
    "for i in range(1,(n+1)):\n",
    "    for j in range(1,n+1):\n",
    "        if(j==n-i+1):\n",
    "            print(\"*\",end=\" \")\n",
    "        elif(i==j):\n",
    "            print(\"*\",end=\" \")\n",
    "        elif(i==1 or i==n or j==1 or j==n):\n",
    "            print(\"*\",end=\" \")\n",
    "        elif(i<j and j<n-i+1):\n",
    "            print(\"*\",end=\" \")\n",
    "        elif(i>j and j>n-i+1):\n",
    "            print(\"*\",end=\" \")\n",
    "        else:\n",
    "            print(\" \", end=\" \")\n",
    "    print()\n",
    "    \n"
   ]
  },
  {
   "cell_type": "code",
   "execution_count": 4,
   "metadata": {},
   "outputs": [
    {
     "name": "stdout",
     "output_type": "stream",
     "text": [
      "N=7\n",
      "            *               \n",
      "          *   *             \n",
      "        *       *           \n",
      "      *           *         \n",
      "    *               *       \n",
      "  *                   *     \n",
      "*                       *   \n",
      "  *                   *     \n",
      "    *               *       \n",
      "      *           *         \n",
      "        *       *           \n",
      "          *   *             \n",
      "            *               \n",
      "                            \n"
     ]
    }
   ],
   "source": [
    "n=int(input(\"N=\"))\n",
    "for i in range(1,(n+1)):\n",
    "    for j in range(1,n+1):\n",
    "        if(j==n-i+1):\n",
    "            print(\"*\",end=\" \")\n",
    "        else:\n",
    "            print(\" \", end=\" \")\n",
    "            \n",
    "\n",
    "    \n",
    "    for j in range(n+1,2*(n)+1):\n",
    "        if(n+i==j+1):\n",
    "             print(\"*\",end=\" \")\n",
    "        else:\n",
    "            print( \" \",end=\" \")\n",
    "    print()\n",
    "for i in range(1,(n+1)):\n",
    "    for j in range(1,n+1):\n",
    "        if(j-1==i):\n",
    "            print(\"*\",end=\" \")\n",
    "        else:\n",
    "            print(\" \", end=\" \")\n",
    "            \n",
    "\n",
    "    \n",
    "    for j in range(n+1,2*(n)+1):\n",
    "        if(j==2*n-i-1):\n",
    "             print(\"*\",end=\" \")\n",
    "        else:\n",
    "            print( \" \",end=\" \")\n",
    "    print()"
   ]
  },
  {
   "cell_type": "code",
   "execution_count": 7,
   "metadata": {},
   "outputs": [
    {
     "name": "stdout",
     "output_type": "stream",
     "text": [
      "avihs\n"
     ]
    }
   ],
   "source": [
    "s=\"shiva\"\n",
    "print(s[::-1])"
   ]
  },
  {
   "cell_type": "code",
   "execution_count": null,
   "metadata": {},
   "outputs": [],
   "source": []
  }
 ],
 "metadata": {
  "kernelspec": {
   "display_name": "Python 3",
   "language": "python",
   "name": "python3"
  },
  "language_info": {
   "codemirror_mode": {
    "name": "ipython",
    "version": 3
   },
   "file_extension": ".py",
   "mimetype": "text/x-python",
   "name": "python",
   "nbconvert_exporter": "python",
   "pygments_lexer": "ipython3",
   "version": "3.7.3"
  }
 },
 "nbformat": 4,
 "nbformat_minor": 2
}
